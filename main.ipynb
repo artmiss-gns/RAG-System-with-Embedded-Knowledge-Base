{
 "cells": [
  {
   "cell_type": "code",
   "execution_count": 31,
   "metadata": {},
   "outputs": [],
   "source": [
    "import fitz\n",
    "from pathlib import Path\n",
    "import random\n",
    "\n",
    "import pandas as pd \n",
    "import numpy as np\n",
    "\n",
    "from tqdm.autonotebook import tqdm, trange\n",
    "\n",
    "import torch"
   ]
  },
  {
   "cell_type": "code",
   "execution_count": 2,
   "metadata": {},
   "outputs": [],
   "source": [
    "pdf_path = Path('./Early Iran History.pdf')\n",
    "doc = fitz.open(pdf_path)"
   ]
  },
  {
   "cell_type": "code",
   "execution_count": 3,
   "metadata": {},
   "outputs": [],
   "source": [
    "page_content = {}\n",
    "for page_number, page in enumerate(doc) :\n",
    "    text = page.get_text()#.replace('\\n', ' ')\n",
    "    page_content[page_number+1] = text"
   ]
  },
  {
   "cell_type": "code",
   "execution_count": 4,
   "metadata": {},
   "outputs": [],
   "source": [
    "data = pd.DataFrame(columns=['page_number', 'text'])\n",
    "data['page_number'] = list(page_content.keys())\n",
    "data['text'] = list(page_content.values())"
   ]
  },
  {
   "cell_type": "code",
   "execution_count": 5,
   "metadata": {},
   "outputs": [
    {
     "data": {
      "text/plain": [
       "0          [57, 19, 1]\n",
       "1         [282, 60, 1]\n",
       "2         [250, 37, 2]\n",
       "3         [262, 86, 3]\n",
       "4           [28, 4, 1]\n",
       "            ...       \n",
       "273    [1770, 301, 15]\n",
       "274     [1657, 263, 3]\n",
       "275     [1672, 276, 8]\n",
       "276    [1649, 278, 15]\n",
       "277     [1351, 225, 7]\n",
       "Length: 278, dtype: object"
      ]
     },
     "execution_count": 5,
     "metadata": {},
     "output_type": "execute_result"
    }
   ],
   "source": [
    "data.apply(\n",
    "    lambda row: [\n",
    "        len(row['text']),            # char count\n",
    "        len(row['text'].split()),    # word count\n",
    "        len(row['text'].split('. ')) # sentence count\n",
    "    ],\n",
    "    axis=1,\n",
    ")"
   ]
  },
  {
   "cell_type": "code",
   "execution_count": 6,
   "metadata": {},
   "outputs": [],
   "source": [
    "\n",
    "data[['char_count', 'word_count', 'sentence_count']] = data.apply(\n",
    "    lambda row: [\n",
    "        len(row['text']),            # char count\n",
    "        len(row['text'].split()),    # word count\n",
    "        len(row['text'].split('. ')) # sentence count\n",
    "    ],\n",
    "    axis=1,\n",
    "    result_type='expand',\n",
    ")"
   ]
  },
  {
   "cell_type": "code",
   "execution_count": 7,
   "metadata": {},
   "outputs": [],
   "source": [
    "data['token_count'] = data['char_count'] / 4 # assuming 4 chars per token"
   ]
  },
  {
   "cell_type": "code",
   "execution_count": 8,
   "metadata": {},
   "outputs": [
    {
     "data": {
      "text/html": [
       "<div>\n",
       "<style scoped>\n",
       "    .dataframe tbody tr th:only-of-type {\n",
       "        vertical-align: middle;\n",
       "    }\n",
       "\n",
       "    .dataframe tbody tr th {\n",
       "        vertical-align: top;\n",
       "    }\n",
       "\n",
       "    .dataframe thead th {\n",
       "        text-align: right;\n",
       "    }\n",
       "</style>\n",
       "<table border=\"1\" class=\"dataframe\">\n",
       "  <thead>\n",
       "    <tr style=\"text-align: right;\">\n",
       "      <th></th>\n",
       "      <th>page_number</th>\n",
       "      <th>text</th>\n",
       "      <th>char_count</th>\n",
       "      <th>word_count</th>\n",
       "      <th>sentence_count</th>\n",
       "      <th>token_count</th>\n",
       "    </tr>\n",
       "  </thead>\n",
       "  <tbody>\n",
       "    <tr>\n",
       "      <th>0</th>\n",
       "      <td>1</td>\n",
       "      <td>H I S T O R Y  O F  E A R L Y  I R A N  \\noi.u...</td>\n",
       "      <td>57</td>\n",
       "      <td>19</td>\n",
       "      <td>1</td>\n",
       "      <td>14.25</td>\n",
       "    </tr>\n",
       "    <tr>\n",
       "      <th>1</th>\n",
       "      <td>2</td>\n",
       "      <td>T H E  U N I V E R S I T Y  O F  C H I C A G O...</td>\n",
       "      <td>282</td>\n",
       "      <td>60</td>\n",
       "      <td>1</td>\n",
       "      <td>70.50</td>\n",
       "    </tr>\n",
       "    <tr>\n",
       "      <th>2</th>\n",
       "      <td>3</td>\n",
       "      <td>HISTORY OF EARLY IRAN \\nBY GEORGE G. CAMERON \\...</td>\n",
       "      <td>250</td>\n",
       "      <td>37</td>\n",
       "      <td>2</td>\n",
       "      <td>62.50</td>\n",
       "    </tr>\n",
       "    <tr>\n",
       "      <th>3</th>\n",
       "      <td>4</td>\n",
       "      <td>C O P Y R I G H T  I 9 3 6  B Y  T H E  U N I ...</td>\n",
       "      <td>262</td>\n",
       "      <td>86</td>\n",
       "      <td>3</td>\n",
       "      <td>65.50</td>\n",
       "    </tr>\n",
       "    <tr>\n",
       "      <th>4</th>\n",
       "      <td>5</td>\n",
       "      <td>TO MY WIFE \\noi.uchicago.edu\\n</td>\n",
       "      <td>28</td>\n",
       "      <td>4</td>\n",
       "      <td>1</td>\n",
       "      <td>7.00</td>\n",
       "    </tr>\n",
       "    <tr>\n",
       "      <th>...</th>\n",
       "      <td>...</td>\n",
       "      <td>...</td>\n",
       "      <td>...</td>\n",
       "      <td>...</td>\n",
       "      <td>...</td>\n",
       "      <td>...</td>\n",
       "    </tr>\n",
       "    <tr>\n",
       "      <th>273</th>\n",
       "      <td>274</td>\n",
       "      <td>256 \\nHISTORY OF EARLY IRAN \\nSikris, c., 151 ...</td>\n",
       "      <td>1770</td>\n",
       "      <td>301</td>\n",
       "      <td>15</td>\n",
       "      <td>442.50</td>\n",
       "    </tr>\n",
       "    <tr>\n",
       "      <th>274</th>\n",
       "      <td>275</td>\n",
       "      <td>INDEX \\nSusa, c.—Continued \\npottery of, 8-10 ...</td>\n",
       "      <td>1657</td>\n",
       "      <td>263</td>\n",
       "      <td>3</td>\n",
       "      <td>414.25</td>\n",
       "    </tr>\n",
       "    <tr>\n",
       "      <th>275</th>\n",
       "      <td>276</td>\n",
       "      <td>258 \\nHISTORY OF EARLY IRAN \\nTetep-mada, p.y ...</td>\n",
       "      <td>1672</td>\n",
       "      <td>276</td>\n",
       "      <td>8</td>\n",
       "      <td>418.00</td>\n",
       "    </tr>\n",
       "    <tr>\n",
       "      <th>276</th>\n",
       "      <td>277</td>\n",
       "      <td>INDEX \\n259 \\nUmhuluma, p. y  199, 204 \\nUmma,...</td>\n",
       "      <td>1649</td>\n",
       "      <td>278</td>\n",
       "      <td>15</td>\n",
       "      <td>412.25</td>\n",
       "    </tr>\n",
       "    <tr>\n",
       "      <th>277</th>\n",
       "      <td>278</td>\n",
       "      <td>26o \\nHISTORY OF EARLY IRAN \\nVaruna, d., 139 ...</td>\n",
       "      <td>1351</td>\n",
       "      <td>225</td>\n",
       "      <td>7</td>\n",
       "      <td>337.75</td>\n",
       "    </tr>\n",
       "  </tbody>\n",
       "</table>\n",
       "<p>278 rows × 6 columns</p>\n",
       "</div>"
      ],
      "text/plain": [
       "     page_number                                               text  \\\n",
       "0              1  H I S T O R Y  O F  E A R L Y  I R A N  \\noi.u...   \n",
       "1              2  T H E  U N I V E R S I T Y  O F  C H I C A G O...   \n",
       "2              3  HISTORY OF EARLY IRAN \\nBY GEORGE G. CAMERON \\...   \n",
       "3              4  C O P Y R I G H T  I 9 3 6  B Y  T H E  U N I ...   \n",
       "4              5                     TO MY WIFE \\noi.uchicago.edu\\n   \n",
       "..           ...                                                ...   \n",
       "273          274  256 \\nHISTORY OF EARLY IRAN \\nSikris, c., 151 ...   \n",
       "274          275  INDEX \\nSusa, c.—Continued \\npottery of, 8-10 ...   \n",
       "275          276  258 \\nHISTORY OF EARLY IRAN \\nTetep-mada, p.y ...   \n",
       "276          277  INDEX \\n259 \\nUmhuluma, p. y  199, 204 \\nUmma,...   \n",
       "277          278  26o \\nHISTORY OF EARLY IRAN \\nVaruna, d., 139 ...   \n",
       "\n",
       "     char_count  word_count  sentence_count  token_count  \n",
       "0            57          19               1        14.25  \n",
       "1           282          60               1        70.50  \n",
       "2           250          37               2        62.50  \n",
       "3           262          86               3        65.50  \n",
       "4            28           4               1         7.00  \n",
       "..          ...         ...             ...          ...  \n",
       "273        1770         301              15       442.50  \n",
       "274        1657         263               3       414.25  \n",
       "275        1672         276               8       418.00  \n",
       "276        1649         278              15       412.25  \n",
       "277        1351         225               7       337.75  \n",
       "\n",
       "[278 rows x 6 columns]"
      ]
     },
     "execution_count": 8,
     "metadata": {},
     "output_type": "execute_result"
    }
   ],
   "source": [
    "data"
   ]
  },
  {
   "cell_type": "code",
   "execution_count": 9,
   "metadata": {},
   "outputs": [
    {
     "data": {
      "text/html": [
       "<div>\n",
       "<style scoped>\n",
       "    .dataframe tbody tr th:only-of-type {\n",
       "        vertical-align: middle;\n",
       "    }\n",
       "\n",
       "    .dataframe tbody tr th {\n",
       "        vertical-align: top;\n",
       "    }\n",
       "\n",
       "    .dataframe thead th {\n",
       "        text-align: right;\n",
       "    }\n",
       "</style>\n",
       "<table border=\"1\" class=\"dataframe\">\n",
       "  <thead>\n",
       "    <tr style=\"text-align: right;\">\n",
       "      <th></th>\n",
       "      <th>page_number</th>\n",
       "      <th>char_count</th>\n",
       "      <th>word_count</th>\n",
       "      <th>sentence_count</th>\n",
       "      <th>token_count</th>\n",
       "    </tr>\n",
       "  </thead>\n",
       "  <tbody>\n",
       "    <tr>\n",
       "      <th>count</th>\n",
       "      <td>278.000000</td>\n",
       "      <td>278.000000</td>\n",
       "      <td>278.000000</td>\n",
       "      <td>278.000000</td>\n",
       "      <td>278.000000</td>\n",
       "    </tr>\n",
       "    <tr>\n",
       "      <th>mean</th>\n",
       "      <td>139.500000</td>\n",
       "      <td>1552.615108</td>\n",
       "      <td>254.305755</td>\n",
       "      <td>17.050360</td>\n",
       "      <td>388.153777</td>\n",
       "    </tr>\n",
       "    <tr>\n",
       "      <th>std</th>\n",
       "      <td>80.395895</td>\n",
       "      <td>353.851760</td>\n",
       "      <td>61.606033</td>\n",
       "      <td>8.775848</td>\n",
       "      <td>88.462940</td>\n",
       "    </tr>\n",
       "    <tr>\n",
       "      <th>min</th>\n",
       "      <td>1.000000</td>\n",
       "      <td>16.000000</td>\n",
       "      <td>1.000000</td>\n",
       "      <td>1.000000</td>\n",
       "      <td>4.000000</td>\n",
       "    </tr>\n",
       "    <tr>\n",
       "      <th>25%</th>\n",
       "      <td>70.250000</td>\n",
       "      <td>1524.250000</td>\n",
       "      <td>249.000000</td>\n",
       "      <td>12.000000</td>\n",
       "      <td>381.062500</td>\n",
       "    </tr>\n",
       "    <tr>\n",
       "      <th>50%</th>\n",
       "      <td>139.500000</td>\n",
       "      <td>1615.500000</td>\n",
       "      <td>265.000000</td>\n",
       "      <td>16.000000</td>\n",
       "      <td>403.875000</td>\n",
       "    </tr>\n",
       "    <tr>\n",
       "      <th>75%</th>\n",
       "      <td>208.750000</td>\n",
       "      <td>1718.750000</td>\n",
       "      <td>284.000000</td>\n",
       "      <td>21.000000</td>\n",
       "      <td>429.687500</td>\n",
       "    </tr>\n",
       "    <tr>\n",
       "      <th>max</th>\n",
       "      <td>278.000000</td>\n",
       "      <td>2386.000000</td>\n",
       "      <td>396.000000</td>\n",
       "      <td>78.000000</td>\n",
       "      <td>596.500000</td>\n",
       "    </tr>\n",
       "  </tbody>\n",
       "</table>\n",
       "</div>"
      ],
      "text/plain": [
       "       page_number   char_count  word_count  sentence_count  token_count\n",
       "count   278.000000   278.000000  278.000000      278.000000   278.000000\n",
       "mean    139.500000  1552.615108  254.305755       17.050360   388.153777\n",
       "std      80.395895   353.851760   61.606033        8.775848    88.462940\n",
       "min       1.000000    16.000000    1.000000        1.000000     4.000000\n",
       "25%      70.250000  1524.250000  249.000000       12.000000   381.062500\n",
       "50%     139.500000  1615.500000  265.000000       16.000000   403.875000\n",
       "75%     208.750000  1718.750000  284.000000       21.000000   429.687500\n",
       "max     278.000000  2386.000000  396.000000       78.000000   596.500000"
      ]
     },
     "execution_count": 9,
     "metadata": {},
     "output_type": "execute_result"
    }
   ],
   "source": [
    "data.describe()"
   ]
  },
  {
   "cell_type": "code",
   "execution_count": 10,
   "metadata": {},
   "outputs": [
    {
     "data": {
      "text/plain": [
       "<Axes: ylabel='Frequency'>"
      ]
     },
     "execution_count": 10,
     "metadata": {},
     "output_type": "execute_result"
    },
    {
     "data": {
      "image/png": "[encoded data removed]",
      "text/plain": [
       "<Figure size 640x480 with 1 Axes>"
      ]
     },
     "metadata": {},
     "output_type": "display_data"
    }
   ],
   "source": [
    "data['sentence_count'].plot(kind='hist', bins=100)"
   ]
  },
  {
   "cell_type": "code",
   "execution_count": 11,
   "metadata": {},
   "outputs": [
    {
     "data": {
      "text/plain": [
       "<Axes: ylabel='Frequency'>"
      ]
     },
     "execution_count": 11,
     "metadata": {},
     "output_type": "execute_result"
    },
    {
     "data": {
      "image/png": "[encoded data removed]",
      "text/plain": [
       "<Figure size 640x480 with 1 Axes>"
      ]
     },
     "metadata": {},
     "output_type": "display_data"
    }
   ],
   "source": [
    "data['token_count'].plot(kind='hist', bins=100)"
   ]
  },
  {
   "cell_type": "markdown",
   "metadata": {},
   "source": [
    "___"
   ]
  },
  {
   "cell_type": "code",
   "execution_count": 12,
   "metadata": {},
   "outputs": [],
   "source": [
    "# import os\n",
    "# os.environ['HF_HOME'] = '~/huggingface_cache'\n",
    "# os.environ['TRANSFORMERS_CACHE'] = '~/huggingface_cache'"
   ]
  },
  {
   "cell_type": "markdown",
   "metadata": {},
   "source": [
    "### splitting pages into sentences"
   ]
  },
  {
   "cell_type": "code",
   "execution_count": 13,
   "metadata": {},
   "outputs": [],
   "source": [
    "from spacy.lang.en import English "
   ]
  },
  {
   "cell_type": "code",
   "execution_count": 14,
   "metadata": {},
   "outputs": [
    {
     "data": {
      "text/plain": [
       "<spacy.pipeline.sentencizer.Sentencizer at 0x1556ec710>"
      ]
     },
     "execution_count": 14,
     "metadata": {},
     "output_type": "execute_result"
    }
   ],
   "source": [
    "nlp = English()\n",
    "nlp.add_pipe(\"sentencizer\")"
   ]
  },
  {
   "cell_type": "code",
   "execution_count": 15,
   "metadata": {},
   "outputs": [],
   "source": [
    "data['sentences'] = data.apply(\n",
    "    func=lambda row: list(nlp(row['text']).sents),\n",
    "    axis=1,\n",
    "    # result_type='expand'\n",
    ")"
   ]
  },
  {
   "cell_type": "code",
   "execution_count": 61,
   "metadata": {},
   "outputs": [
    {
     "data": {
      "text/html": [
       "<div>\n",
       "<style scoped>\n",
       "    .dataframe tbody tr th:only-of-type {\n",
       "        vertical-align: middle;\n",
       "    }\n",
       "\n",
       "    .dataframe tbody tr th {\n",
       "        vertical-align: top;\n",
       "    }\n",
       "\n",
       "    .dataframe thead th {\n",
       "        text-align: right;\n",
       "    }\n",
       "</style>\n",
       "<table border=\"1\" class=\"dataframe\">\n",
       "  <thead>\n",
       "    <tr style=\"text-align: right;\">\n",
       "      <th></th>\n",
       "      <th>page_number</th>\n",
       "      <th>text</th>\n",
       "      <th>char_count</th>\n",
       "      <th>word_count</th>\n",
       "      <th>sentence_count</th>\n",
       "      <th>token_count</th>\n",
       "      <th>sentences</th>\n",
       "    </tr>\n",
       "  </thead>\n",
       "  <tbody>\n",
       "    <tr>\n",
       "      <th>76</th>\n",
       "      <td>77</td>\n",
       "      <td>BABYLONIAN DYNASTS \\n61 \\nKindattu, as king of...</td>\n",
       "      <td>2039</td>\n",
       "      <td>332</td>\n",
       "      <td>29</td>\n",
       "      <td>509.75</td>\n",
       "      <td>[(BABYLONIAN, DYNASTS, \\n, 61, \\n, Kindattu, ,...</td>\n",
       "    </tr>\n",
       "  </tbody>\n",
       "</table>\n",
       "</div>"
      ],
      "text/plain": [
       "    page_number                                               text  \\\n",
       "76           77  BABYLONIAN DYNASTS \\n61 \\nKindattu, as king of...   \n",
       "\n",
       "    char_count  word_count  sentence_count  token_count  \\\n",
       "76        2039         332              29       509.75   \n",
       "\n",
       "                                            sentences  \n",
       "76  [(BABYLONIAN, DYNASTS, \\n, 61, \\n, Kindattu, ,...  "
      ]
     },
     "execution_count": 61,
     "metadata": {},
     "output_type": "execute_result"
    }
   ],
   "source": [
    "sample = data.sample()\n",
    "sample"
   ]
  },
  {
   "cell_type": "code",
   "execution_count": 66,
   "metadata": {},
   "outputs": [
    {
     "data": {
      "text/html": [
       "<div>\n",
       "<style scoped>\n",
       "    .dataframe tbody tr th:only-of-type {\n",
       "        vertical-align: middle;\n",
       "    }\n",
       "\n",
       "    .dataframe tbody tr th {\n",
       "        vertical-align: top;\n",
       "    }\n",
       "\n",
       "    .dataframe thead th {\n",
       "        text-align: right;\n",
       "    }\n",
       "</style>\n",
       "<table border=\"1\" class=\"dataframe\">\n",
       "  <thead>\n",
       "    <tr style=\"text-align: right;\">\n",
       "      <th></th>\n",
       "      <th>page_number</th>\n",
       "      <th>char_count</th>\n",
       "      <th>word_count</th>\n",
       "      <th>sentence_count</th>\n",
       "      <th>token_count</th>\n",
       "    </tr>\n",
       "  </thead>\n",
       "  <tbody>\n",
       "    <tr>\n",
       "      <th>count</th>\n",
       "      <td>278.00</td>\n",
       "      <td>278.00</td>\n",
       "      <td>278.00</td>\n",
       "      <td>278.00</td>\n",
       "      <td>278.00</td>\n",
       "    </tr>\n",
       "    <tr>\n",
       "      <th>mean</th>\n",
       "      <td>139.50</td>\n",
       "      <td>1552.62</td>\n",
       "      <td>254.31</td>\n",
       "      <td>17.05</td>\n",
       "      <td>388.15</td>\n",
       "    </tr>\n",
       "    <tr>\n",
       "      <th>std</th>\n",
       "      <td>80.40</td>\n",
       "      <td>353.85</td>\n",
       "      <td>61.61</td>\n",
       "      <td>8.78</td>\n",
       "      <td>88.46</td>\n",
       "    </tr>\n",
       "    <tr>\n",
       "      <th>min</th>\n",
       "      <td>1.00</td>\n",
       "      <td>16.00</td>\n",
       "      <td>1.00</td>\n",
       "      <td>1.00</td>\n",
       "      <td>4.00</td>\n",
       "    </tr>\n",
       "    <tr>\n",
       "      <th>25%</th>\n",
       "      <td>70.25</td>\n",
       "      <td>1524.25</td>\n",
       "      <td>249.00</td>\n",
       "      <td>12.00</td>\n",
       "      <td>381.06</td>\n",
       "    </tr>\n",
       "    <tr>\n",
       "      <th>50%</th>\n",
       "      <td>139.50</td>\n",
       "      <td>1615.50</td>\n",
       "      <td>265.00</td>\n",
       "      <td>16.00</td>\n",
       "      <td>403.88</td>\n",
       "    </tr>\n",
       "    <tr>\n",
       "      <th>75%</th>\n",
       "      <td>208.75</td>\n",
       "      <td>1718.75</td>\n",
       "      <td>284.00</td>\n",
       "      <td>21.00</td>\n",
       "      <td>429.69</td>\n",
       "    </tr>\n",
       "    <tr>\n",
       "      <th>max</th>\n",
       "      <td>278.00</td>\n",
       "      <td>2386.00</td>\n",
       "      <td>396.00</td>\n",
       "      <td>78.00</td>\n",
       "      <td>596.50</td>\n",
       "    </tr>\n",
       "  </tbody>\n",
       "</table>\n",
       "</div>"
      ],
      "text/plain": [
       "       page_number  char_count  word_count  sentence_count  token_count\n",
       "count       278.00      278.00      278.00          278.00       278.00\n",
       "mean        139.50     1552.62      254.31           17.05       388.15\n",
       "std          80.40      353.85       61.61            8.78        88.46\n",
       "min           1.00       16.00        1.00            1.00         4.00\n",
       "25%          70.25     1524.25      249.00           12.00       381.06\n",
       "50%         139.50     1615.50      265.00           16.00       403.88\n",
       "75%         208.75     1718.75      284.00           21.00       429.69\n",
       "max         278.00     2386.00      396.00           78.00       596.50"
      ]
     },
     "execution_count": 66,
     "metadata": {},
     "output_type": "execute_result"
    }
   ],
   "source": [
    "data.describe().round(2)"
   ]
  },
  {
   "cell_type": "markdown",
   "metadata": {},
   "source": [
    "### Chunking our sentences together"
   ]
  }
 ],
 "metadata": {
  "kernelspec": {
   "display_name": "dl2",
   "language": "python",
   "name": "python3"
  },
  "language_info": {
   "codemirror_mode": {
    "name": "ipython",
    "version": 3
   },
   "file_extension": ".py",
   "mimetype": "text/x-python",
   "name": "python",
   "nbconvert_exporter": "python",
   "pygments_lexer": "ipython3",
   "version": "3.12.4"
  }
 },
 "nbformat": 4,
 "nbformat_minor": 2
}
