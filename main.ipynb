{
 "cells": [
  {
   "cell_type": "code",
   "execution_count": 47,
   "metadata": {},
   "outputs": [],
   "source": [
    "import fitz # pymupdf\n",
    "from pathlib import Path\n",
    "import random\n",
    "\n",
    "import pandas as pd \n",
    "import numpy as np\n",
    "\n",
    "from tqdm.autonotebook import tqdm, trange\n",
    "import matplotlib.pyplot as plt\n",
    "\n",
    "import torch"
   ]
  },
  {
   "cell_type": "code",
   "execution_count": 2,
   "metadata": {},
   "outputs": [],
   "source": [
    "pdf_path = Path('./Early Iran History.pdf')\n",
    "doc = fitz.open(pdf_path)"
   ]
  },
  {
   "cell_type": "code",
   "execution_count": 3,
   "metadata": {},
   "outputs": [],
   "source": [
    "page_content = {}\n",
    "for page_number, page in enumerate(doc) :\n",
    "    text = page.get_text().replace('\\n', ' ')\n",
    "    page_content[page_number+1] = text"
   ]
  },
  {
   "cell_type": "code",
   "execution_count": 4,
   "metadata": {},
   "outputs": [],
   "source": [
    "data = pd.DataFrame(columns=['page_number', 'text'])\n",
    "data['page_number'] = list(page_content.keys())\n",
    "data['text'] = list(page_content.values())"
   ]
  },
  {
   "cell_type": "code",
   "execution_count": 5,
   "metadata": {},
   "outputs": [
    {
     "data": {
      "text/plain": [
       "0          [57, 19, 1]\n",
       "1         [282, 60, 1]\n",
       "2         [250, 37, 2]\n",
       "3         [262, 86, 3]\n",
       "4           [28, 4, 1]\n",
       "            ...       \n",
       "273    [1770, 301, 15]\n",
       "274     [1657, 263, 3]\n",
       "275     [1672, 276, 8]\n",
       "276    [1649, 278, 15]\n",
       "277     [1351, 225, 7]\n",
       "Length: 278, dtype: object"
      ]
     },
     "execution_count": 5,
     "metadata": {},
     "output_type": "execute_result"
    }
   ],
   "source": [
    "data.apply(\n",
    "    lambda row: [\n",
    "        len(row['text']),            # char count\n",
    "        len(row['text'].split()),    # word count\n",
    "        len(row['text'].split('. ')) # sentence count\n",
    "    ],\n",
    "    axis=1,\n",
    ")"
   ]
  },
  {
   "cell_type": "code",
   "execution_count": 6,
   "metadata": {},
   "outputs": [],
   "source": [
    "\n",
    "data[['char_count', 'word_count', 'sentence_count']] = data.apply(\n",
    "    lambda row: [\n",
    "        len(row['text']),            # char count\n",
    "        len(row['text'].split()),    # word count\n",
    "        len(row['text'].split('. ')) # sentence count\n",
    "    ],\n",
    "    axis=1,\n",
    "    result_type='expand',\n",
    ")"
   ]
  },
  {
   "cell_type": "code",
   "execution_count": 7,
   "metadata": {},
   "outputs": [],
   "source": [
    "data['token_count'] = data['char_count'] / 4 # assuming 4 chars per token"
   ]
  },
  {
   "cell_type": "code",
   "execution_count": 8,
   "metadata": {},
   "outputs": [
    {
     "data": {
      "text/html": [
       "<div>\n",
       "<style scoped>\n",
       "    .dataframe tbody tr th:only-of-type {\n",
       "        vertical-align: middle;\n",
       "    }\n",
       "\n",
       "    .dataframe tbody tr th {\n",
       "        vertical-align: top;\n",
       "    }\n",
       "\n",
       "    .dataframe thead th {\n",
       "        text-align: right;\n",
       "    }\n",
       "</style>\n",
       "<table border=\"1\" class=\"dataframe\">\n",
       "  <thead>\n",
       "    <tr style=\"text-align: right;\">\n",
       "      <th></th>\n",
       "      <th>page_number</th>\n",
       "      <th>text</th>\n",
       "      <th>char_count</th>\n",
       "      <th>word_count</th>\n",
       "      <th>sentence_count</th>\n",
       "      <th>token_count</th>\n",
       "    </tr>\n",
       "  </thead>\n",
       "  <tbody>\n",
       "    <tr>\n",
       "      <th>0</th>\n",
       "      <td>1</td>\n",
       "      <td>H I S T O R Y  O F  E A R L Y  I R A N   oi.uc...</td>\n",
       "      <td>57</td>\n",
       "      <td>19</td>\n",
       "      <td>1</td>\n",
       "      <td>14.25</td>\n",
       "    </tr>\n",
       "    <tr>\n",
       "      <th>1</th>\n",
       "      <td>2</td>\n",
       "      <td>T H E  U N I V E R S I T Y  O F  C H I C A G O...</td>\n",
       "      <td>282</td>\n",
       "      <td>60</td>\n",
       "      <td>1</td>\n",
       "      <td>70.50</td>\n",
       "    </tr>\n",
       "    <tr>\n",
       "      <th>2</th>\n",
       "      <td>3</td>\n",
       "      <td>HISTORY OF EARLY IRAN  BY GEORGE G. CAMERON  I...</td>\n",
       "      <td>250</td>\n",
       "      <td>37</td>\n",
       "      <td>2</td>\n",
       "      <td>62.50</td>\n",
       "    </tr>\n",
       "    <tr>\n",
       "      <th>3</th>\n",
       "      <td>4</td>\n",
       "      <td>C O P Y R I G H T  I 9 3 6  B Y  T H E  U N I ...</td>\n",
       "      <td>262</td>\n",
       "      <td>86</td>\n",
       "      <td>3</td>\n",
       "      <td>65.50</td>\n",
       "    </tr>\n",
       "    <tr>\n",
       "      <th>4</th>\n",
       "      <td>5</td>\n",
       "      <td>TO MY WIFE  oi.uchicago.edu</td>\n",
       "      <td>28</td>\n",
       "      <td>4</td>\n",
       "      <td>1</td>\n",
       "      <td>7.00</td>\n",
       "    </tr>\n",
       "    <tr>\n",
       "      <th>...</th>\n",
       "      <td>...</td>\n",
       "      <td>...</td>\n",
       "      <td>...</td>\n",
       "      <td>...</td>\n",
       "      <td>...</td>\n",
       "      <td>...</td>\n",
       "    </tr>\n",
       "    <tr>\n",
       "      <th>273</th>\n",
       "      <td>274</td>\n",
       "      <td>256  HISTORY OF EARLY IRAN  Sikris, c., 151 f....</td>\n",
       "      <td>1770</td>\n",
       "      <td>301</td>\n",
       "      <td>15</td>\n",
       "      <td>442.50</td>\n",
       "    </tr>\n",
       "    <tr>\n",
       "      <th>274</th>\n",
       "      <td>275</td>\n",
       "      <td>INDEX  Susa, c.—Continued  pottery of, 8-10  r...</td>\n",
       "      <td>1657</td>\n",
       "      <td>263</td>\n",
       "      <td>3</td>\n",
       "      <td>414.25</td>\n",
       "    </tr>\n",
       "    <tr>\n",
       "      <th>275</th>\n",
       "      <td>276</td>\n",
       "      <td>258  HISTORY OF EARLY IRAN  Tetep-mada, p.y 80...</td>\n",
       "      <td>1672</td>\n",
       "      <td>276</td>\n",
       "      <td>8</td>\n",
       "      <td>418.00</td>\n",
       "    </tr>\n",
       "    <tr>\n",
       "      <th>276</th>\n",
       "      <td>277</td>\n",
       "      <td>INDEX  259  Umhuluma, p. y  199, 204  Umma, c....</td>\n",
       "      <td>1649</td>\n",
       "      <td>278</td>\n",
       "      <td>15</td>\n",
       "      <td>412.25</td>\n",
       "    </tr>\n",
       "    <tr>\n",
       "      <th>277</th>\n",
       "      <td>278</td>\n",
       "      <td>26o  HISTORY OF EARLY IRAN  Varuna, d., 139  V...</td>\n",
       "      <td>1351</td>\n",
       "      <td>225</td>\n",
       "      <td>7</td>\n",
       "      <td>337.75</td>\n",
       "    </tr>\n",
       "  </tbody>\n",
       "</table>\n",
       "<p>278 rows × 6 columns</p>\n",
       "</div>"
      ],
      "text/plain": [
       "     page_number                                               text  \\\n",
       "0              1  H I S T O R Y  O F  E A R L Y  I R A N   oi.uc...   \n",
       "1              2  T H E  U N I V E R S I T Y  O F  C H I C A G O...   \n",
       "2              3  HISTORY OF EARLY IRAN  BY GEORGE G. CAMERON  I...   \n",
       "3              4  C O P Y R I G H T  I 9 3 6  B Y  T H E  U N I ...   \n",
       "4              5                       TO MY WIFE  oi.uchicago.edu    \n",
       "..           ...                                                ...   \n",
       "273          274  256  HISTORY OF EARLY IRAN  Sikris, c., 151 f....   \n",
       "274          275  INDEX  Susa, c.—Continued  pottery of, 8-10  r...   \n",
       "275          276  258  HISTORY OF EARLY IRAN  Tetep-mada, p.y 80...   \n",
       "276          277  INDEX  259  Umhuluma, p. y  199, 204  Umma, c....   \n",
       "277          278  26o  HISTORY OF EARLY IRAN  Varuna, d., 139  V...   \n",
       "\n",
       "     char_count  word_count  sentence_count  token_count  \n",
       "0            57          19               1        14.25  \n",
       "1           282          60               1        70.50  \n",
       "2           250          37               2        62.50  \n",
       "3           262          86               3        65.50  \n",
       "4            28           4               1         7.00  \n",
       "..          ...         ...             ...          ...  \n",
       "273        1770         301              15       442.50  \n",
       "274        1657         263               3       414.25  \n",
       "275        1672         276               8       418.00  \n",
       "276        1649         278              15       412.25  \n",
       "277        1351         225               7       337.75  \n",
       "\n",
       "[278 rows x 6 columns]"
      ]
     },
     "execution_count": 8,
     "metadata": {},
     "output_type": "execute_result"
    }
   ],
   "source": [
    "data"
   ]
  },
  {
   "cell_type": "code",
   "execution_count": 9,
   "metadata": {},
   "outputs": [
    {
     "data": {
      "text/html": [
       "<div>\n",
       "<style scoped>\n",
       "    .dataframe tbody tr th:only-of-type {\n",
       "        vertical-align: middle;\n",
       "    }\n",
       "\n",
       "    .dataframe tbody tr th {\n",
       "        vertical-align: top;\n",
       "    }\n",
       "\n",
       "    .dataframe thead th {\n",
       "        text-align: right;\n",
       "    }\n",
       "</style>\n",
       "<table border=\"1\" class=\"dataframe\">\n",
       "  <thead>\n",
       "    <tr style=\"text-align: right;\">\n",
       "      <th></th>\n",
       "      <th>page_number</th>\n",
       "      <th>char_count</th>\n",
       "      <th>word_count</th>\n",
       "      <th>sentence_count</th>\n",
       "      <th>token_count</th>\n",
       "    </tr>\n",
       "  </thead>\n",
       "  <tbody>\n",
       "    <tr>\n",
       "      <th>count</th>\n",
       "      <td>278.000000</td>\n",
       "      <td>278.000000</td>\n",
       "      <td>278.000000</td>\n",
       "      <td>278.000000</td>\n",
       "      <td>278.000000</td>\n",
       "    </tr>\n",
       "    <tr>\n",
       "      <th>mean</th>\n",
       "      <td>139.500000</td>\n",
       "      <td>1552.615108</td>\n",
       "      <td>254.305755</td>\n",
       "      <td>17.050360</td>\n",
       "      <td>388.153777</td>\n",
       "    </tr>\n",
       "    <tr>\n",
       "      <th>std</th>\n",
       "      <td>80.395895</td>\n",
       "      <td>353.851760</td>\n",
       "      <td>61.606033</td>\n",
       "      <td>8.775848</td>\n",
       "      <td>88.462940</td>\n",
       "    </tr>\n",
       "    <tr>\n",
       "      <th>min</th>\n",
       "      <td>1.000000</td>\n",
       "      <td>16.000000</td>\n",
       "      <td>1.000000</td>\n",
       "      <td>1.000000</td>\n",
       "      <td>4.000000</td>\n",
       "    </tr>\n",
       "    <tr>\n",
       "      <th>25%</th>\n",
       "      <td>70.250000</td>\n",
       "      <td>1524.250000</td>\n",
       "      <td>249.000000</td>\n",
       "      <td>12.000000</td>\n",
       "      <td>381.062500</td>\n",
       "    </tr>\n",
       "    <tr>\n",
       "      <th>50%</th>\n",
       "      <td>139.500000</td>\n",
       "      <td>1615.500000</td>\n",
       "      <td>265.000000</td>\n",
       "      <td>16.000000</td>\n",
       "      <td>403.875000</td>\n",
       "    </tr>\n",
       "    <tr>\n",
       "      <th>75%</th>\n",
       "      <td>208.750000</td>\n",
       "      <td>1718.750000</td>\n",
       "      <td>284.000000</td>\n",
       "      <td>21.000000</td>\n",
       "      <td>429.687500</td>\n",
       "    </tr>\n",
       "    <tr>\n",
       "      <th>max</th>\n",
       "      <td>278.000000</td>\n",
       "      <td>2386.000000</td>\n",
       "      <td>396.000000</td>\n",
       "      <td>78.000000</td>\n",
       "      <td>596.500000</td>\n",
       "    </tr>\n",
       "  </tbody>\n",
       "</table>\n",
       "</div>"
      ],
      "text/plain": [
       "       page_number   char_count  word_count  sentence_count  token_count\n",
       "count   278.000000   278.000000  278.000000      278.000000   278.000000\n",
       "mean    139.500000  1552.615108  254.305755       17.050360   388.153777\n",
       "std      80.395895   353.851760   61.606033        8.775848    88.462940\n",
       "min       1.000000    16.000000    1.000000        1.000000     4.000000\n",
       "25%      70.250000  1524.250000  249.000000       12.000000   381.062500\n",
       "50%     139.500000  1615.500000  265.000000       16.000000   403.875000\n",
       "75%     208.750000  1718.750000  284.000000       21.000000   429.687500\n",
       "max     278.000000  2386.000000  396.000000       78.000000   596.500000"
      ]
     },
     "execution_count": 9,
     "metadata": {},
     "output_type": "execute_result"
    }
   ],
   "source": [
    "data.describe()"
   ]
  },
  {
   "cell_type": "code",
   "execution_count": 10,
   "metadata": {},
   "outputs": [
    {
     "name": "stderr",
     "output_type": "stream",
     "text": [
      "Matplotlib is building the font cache; this may take a moment.\n"
     ]
    },
    {
     "data": {
      "text/plain": [
       "<Axes: ylabel='Frequency'>"
      ]
     },
     "execution_count": 10,
     "metadata": {},
     "output_type": "execute_result"
    },
    {
     "data": {
      "image/png": "[encoded data removed]",
      "text/plain": [
       "<Figure size 640x480 with 1 Axes>"
      ]
     },
     "metadata": {},
     "output_type": "display_data"
    }
   ],
   "source": [
    "data['sentence_count'].plot(kind='hist', bins=100)"
   ]
  },
  {
   "cell_type": "code",
   "execution_count": 11,
   "metadata": {},
   "outputs": [
    {
     "data": {
      "text/plain": [
       "<Axes: ylabel='Frequency'>"
      ]
     },
     "execution_count": 11,
     "metadata": {},
     "output_type": "execute_result"
    },
    {
     "data": {
      "image/png": "[encoded data removed]",
      "text/plain": [
       "<Figure size 640x480 with 1 Axes>"
      ]
     },
     "metadata": {},
     "output_type": "display_data"
    }
   ],
   "source": [
    "data['token_count'].plot(kind='hist', bins=100)"
   ]
  },
  {
   "cell_type": "markdown",
   "metadata": {},
   "source": [
    "___"
   ]
  },
  {
   "cell_type": "code",
   "execution_count": 12,
   "metadata": {},
   "outputs": [],
   "source": [
    "# import os\n",
    "# os.environ['HF_HOME'] = '~/huggingface_cache'\n",
    "# os.environ['TRANSFORMERS_CACHE'] = '~/huggingface_cache'"
   ]
  },
  {
   "cell_type": "markdown",
   "metadata": {},
   "source": [
    "### splitting pages into sentences"
   ]
  },
  {
   "cell_type": "code",
   "execution_count": 13,
   "metadata": {},
   "outputs": [],
   "source": [
    "from spacy.lang.en import English "
   ]
  },
  {
   "cell_type": "code",
   "execution_count": 14,
   "metadata": {},
   "outputs": [
    {
     "data": {
      "text/plain": [
       "<spacy.pipeline.sentencizer.Sentencizer at 0x316ce1610>"
      ]
     },
     "execution_count": 14,
     "metadata": {},
     "output_type": "execute_result"
    }
   ],
   "source": [
    "nlp = English()\n",
    "nlp.add_pipe(\"sentencizer\")"
   ]
  },
  {
   "cell_type": "code",
   "execution_count": 15,
   "metadata": {},
   "outputs": [],
   "source": [
    "data['sentences'] = data.apply(\n",
    "    func=lambda row: list(nlp(row['text']).sents),\n",
    "    axis=1,\n",
    "    # result_type='expand'\n",
    ")\n",
    "\n",
    "# make sure all the sentences are str() (if you don't do this , the type will be )\n",
    "data['sentences'] = data['sentences'].map(\n",
    "    lambda sentences: list(map(lambda s: s.text, sentences))\n",
    ")"
   ]
  },
  {
   "cell_type": "code",
   "execution_count": 16,
   "metadata": {},
   "outputs": [
    {
     "data": {
      "text/html": [
       "<div>\n",
       "<style scoped>\n",
       "    .dataframe tbody tr th:only-of-type {\n",
       "        vertical-align: middle;\n",
       "    }\n",
       "\n",
       "    .dataframe tbody tr th {\n",
       "        vertical-align: top;\n",
       "    }\n",
       "\n",
       "    .dataframe thead th {\n",
       "        text-align: right;\n",
       "    }\n",
       "</style>\n",
       "<table border=\"1\" class=\"dataframe\">\n",
       "  <thead>\n",
       "    <tr style=\"text-align: right;\">\n",
       "      <th></th>\n",
       "      <th>page_number</th>\n",
       "      <th>text</th>\n",
       "      <th>char_count</th>\n",
       "      <th>word_count</th>\n",
       "      <th>sentence_count</th>\n",
       "      <th>token_count</th>\n",
       "      <th>sentences</th>\n",
       "    </tr>\n",
       "  </thead>\n",
       "  <tbody>\n",
       "    <tr>\n",
       "      <th>103</th>\n",
       "      <td>104</td>\n",
       "      <td>88  HISTORY OF EARLY IRAN  Had we other origin...</td>\n",
       "      <td>1881</td>\n",
       "      <td>312</td>\n",
       "      <td>15</td>\n",
       "      <td>470.25</td>\n",
       "      <td>[88  HISTORY OF EARLY IRAN  Had we other origi...</td>\n",
       "    </tr>\n",
       "  </tbody>\n",
       "</table>\n",
       "</div>"
      ],
      "text/plain": [
       "     page_number                                               text  \\\n",
       "103          104  88  HISTORY OF EARLY IRAN  Had we other origin...   \n",
       "\n",
       "     char_count  word_count  sentence_count  token_count  \\\n",
       "103        1881         312              15       470.25   \n",
       "\n",
       "                                             sentences  \n",
       "103  [88  HISTORY OF EARLY IRAN  Had we other origi...  "
      ]
     },
     "execution_count": 16,
     "metadata": {},
     "output_type": "execute_result"
    }
   ],
   "source": [
    "sample = data.sample()\n",
    "sample"
   ]
  },
  {
   "cell_type": "code",
   "execution_count": 17,
   "metadata": {},
   "outputs": [
    {
     "data": {
      "text/html": [
       "<div>\n",
       "<style scoped>\n",
       "    .dataframe tbody tr th:only-of-type {\n",
       "        vertical-align: middle;\n",
       "    }\n",
       "\n",
       "    .dataframe tbody tr th {\n",
       "        vertical-align: top;\n",
       "    }\n",
       "\n",
       "    .dataframe thead th {\n",
       "        text-align: right;\n",
       "    }\n",
       "</style>\n",
       "<table border=\"1\" class=\"dataframe\">\n",
       "  <thead>\n",
       "    <tr style=\"text-align: right;\">\n",
       "      <th></th>\n",
       "      <th>page_number</th>\n",
       "      <th>char_count</th>\n",
       "      <th>word_count</th>\n",
       "      <th>sentence_count</th>\n",
       "      <th>token_count</th>\n",
       "    </tr>\n",
       "  </thead>\n",
       "  <tbody>\n",
       "    <tr>\n",
       "      <th>count</th>\n",
       "      <td>278.00</td>\n",
       "      <td>278.00</td>\n",
       "      <td>278.00</td>\n",
       "      <td>278.00</td>\n",
       "      <td>278.00</td>\n",
       "    </tr>\n",
       "    <tr>\n",
       "      <th>mean</th>\n",
       "      <td>139.50</td>\n",
       "      <td>1552.62</td>\n",
       "      <td>254.31</td>\n",
       "      <td>17.05</td>\n",
       "      <td>388.15</td>\n",
       "    </tr>\n",
       "    <tr>\n",
       "      <th>std</th>\n",
       "      <td>80.40</td>\n",
       "      <td>353.85</td>\n",
       "      <td>61.61</td>\n",
       "      <td>8.78</td>\n",
       "      <td>88.46</td>\n",
       "    </tr>\n",
       "    <tr>\n",
       "      <th>min</th>\n",
       "      <td>1.00</td>\n",
       "      <td>16.00</td>\n",
       "      <td>1.00</td>\n",
       "      <td>1.00</td>\n",
       "      <td>4.00</td>\n",
       "    </tr>\n",
       "    <tr>\n",
       "      <th>25%</th>\n",
       "      <td>70.25</td>\n",
       "      <td>1524.25</td>\n",
       "      <td>249.00</td>\n",
       "      <td>12.00</td>\n",
       "      <td>381.06</td>\n",
       "    </tr>\n",
       "    <tr>\n",
       "      <th>50%</th>\n",
       "      <td>139.50</td>\n",
       "      <td>1615.50</td>\n",
       "      <td>265.00</td>\n",
       "      <td>16.00</td>\n",
       "      <td>403.88</td>\n",
       "    </tr>\n",
       "    <tr>\n",
       "      <th>75%</th>\n",
       "      <td>208.75</td>\n",
       "      <td>1718.75</td>\n",
       "      <td>284.00</td>\n",
       "      <td>21.00</td>\n",
       "      <td>429.69</td>\n",
       "    </tr>\n",
       "    <tr>\n",
       "      <th>max</th>\n",
       "      <td>278.00</td>\n",
       "      <td>2386.00</td>\n",
       "      <td>396.00</td>\n",
       "      <td>78.00</td>\n",
       "      <td>596.50</td>\n",
       "    </tr>\n",
       "  </tbody>\n",
       "</table>\n",
       "</div>"
      ],
      "text/plain": [
       "       page_number  char_count  word_count  sentence_count  token_count\n",
       "count       278.00      278.00      278.00          278.00       278.00\n",
       "mean        139.50     1552.62      254.31           17.05       388.15\n",
       "std          80.40      353.85       61.61            8.78        88.46\n",
       "min           1.00       16.00        1.00            1.00         4.00\n",
       "25%          70.25     1524.25      249.00           12.00       381.06\n",
       "50%         139.50     1615.50      265.00           16.00       403.88\n",
       "75%         208.75     1718.75      284.00           21.00       429.69\n",
       "max         278.00     2386.00      396.00           78.00       596.50"
      ]
     },
     "execution_count": 17,
     "metadata": {},
     "output_type": "execute_result"
    }
   ],
   "source": [
    "data.describe().round(2)"
   ]
  },
  {
   "cell_type": "markdown",
   "metadata": {},
   "source": [
    "### Chunking our sentences together"
   ]
  },
  {
   "cell_type": "markdown",
   "metadata": {},
   "source": [
    "Note that the model we are going to use for embedding has a context size of 384 tokens."
   ]
  },
  {
   "cell_type": "code",
   "execution_count": 18,
   "metadata": {},
   "outputs": [
    {
     "data": {
      "text/html": [
       "<div>\n",
       "<style scoped>\n",
       "    .dataframe tbody tr th:only-of-type {\n",
       "        vertical-align: middle;\n",
       "    }\n",
       "\n",
       "    .dataframe tbody tr th {\n",
       "        vertical-align: top;\n",
       "    }\n",
       "\n",
       "    .dataframe thead th {\n",
       "        text-align: right;\n",
       "    }\n",
       "</style>\n",
       "<table border=\"1\" class=\"dataframe\">\n",
       "  <thead>\n",
       "    <tr style=\"text-align: right;\">\n",
       "      <th></th>\n",
       "      <th>page_number</th>\n",
       "      <th>text</th>\n",
       "      <th>char_count</th>\n",
       "      <th>word_count</th>\n",
       "      <th>sentence_count</th>\n",
       "      <th>token_count</th>\n",
       "      <th>sentences</th>\n",
       "    </tr>\n",
       "  </thead>\n",
       "  <tbody>\n",
       "    <tr>\n",
       "      <th>0</th>\n",
       "      <td>1</td>\n",
       "      <td>H I S T O R Y  O F  E A R L Y  I R A N   oi.uc...</td>\n",
       "      <td>57</td>\n",
       "      <td>19</td>\n",
       "      <td>1</td>\n",
       "      <td>14.25</td>\n",
       "      <td>[H I S T O R Y  O F  E A R L Y  I R A N   oi.u...</td>\n",
       "    </tr>\n",
       "    <tr>\n",
       "      <th>1</th>\n",
       "      <td>2</td>\n",
       "      <td>T H E  U N I V E R S I T Y  O F  C H I C A G O...</td>\n",
       "      <td>282</td>\n",
       "      <td>60</td>\n",
       "      <td>1</td>\n",
       "      <td>70.50</td>\n",
       "      <td>[T H E  U N I V E R S I T Y  O F  C H I C A G ...</td>\n",
       "    </tr>\n",
       "    <tr>\n",
       "      <th>2</th>\n",
       "      <td>3</td>\n",
       "      <td>HISTORY OF EARLY IRAN  BY GEORGE G. CAMERON  I...</td>\n",
       "      <td>250</td>\n",
       "      <td>37</td>\n",
       "      <td>2</td>\n",
       "      <td>62.50</td>\n",
       "      <td>[HISTORY OF EARLY IRAN  BY GEORGE G. CAMERON  ...</td>\n",
       "    </tr>\n",
       "    <tr>\n",
       "      <th>3</th>\n",
       "      <td>4</td>\n",
       "      <td>C O P Y R I G H T  I 9 3 6  B Y  T H E  U N I ...</td>\n",
       "      <td>262</td>\n",
       "      <td>86</td>\n",
       "      <td>3</td>\n",
       "      <td>65.50</td>\n",
       "      <td>[C O P Y R I G H T  I 9 3 6  B Y  T H E  U N I...</td>\n",
       "    </tr>\n",
       "    <tr>\n",
       "      <th>4</th>\n",
       "      <td>5</td>\n",
       "      <td>TO MY WIFE  oi.uchicago.edu</td>\n",
       "      <td>28</td>\n",
       "      <td>4</td>\n",
       "      <td>1</td>\n",
       "      <td>7.00</td>\n",
       "      <td>[TO MY WIFE  oi.uchicago.edu]</td>\n",
       "    </tr>\n",
       "    <tr>\n",
       "      <th>...</th>\n",
       "      <td>...</td>\n",
       "      <td>...</td>\n",
       "      <td>...</td>\n",
       "      <td>...</td>\n",
       "      <td>...</td>\n",
       "      <td>...</td>\n",
       "      <td>...</td>\n",
       "    </tr>\n",
       "    <tr>\n",
       "      <th>273</th>\n",
       "      <td>274</td>\n",
       "      <td>256  HISTORY OF EARLY IRAN  Sikris, c., 151 f....</td>\n",
       "      <td>1770</td>\n",
       "      <td>301</td>\n",
       "      <td>15</td>\n",
       "      <td>442.50</td>\n",
       "      <td>[256  HISTORY OF EARLY IRAN  Sikris, c., 151 f...</td>\n",
       "    </tr>\n",
       "    <tr>\n",
       "      <th>274</th>\n",
       "      <td>275</td>\n",
       "      <td>INDEX  Susa, c.—Continued  pottery of, 8-10  r...</td>\n",
       "      <td>1657</td>\n",
       "      <td>263</td>\n",
       "      <td>3</td>\n",
       "      <td>414.25</td>\n",
       "      <td>[INDEX  Susa, c.—Continued  pottery of, 8-10  ...</td>\n",
       "    </tr>\n",
       "    <tr>\n",
       "      <th>275</th>\n",
       "      <td>276</td>\n",
       "      <td>258  HISTORY OF EARLY IRAN  Tetep-mada, p.y 80...</td>\n",
       "      <td>1672</td>\n",
       "      <td>276</td>\n",
       "      <td>8</td>\n",
       "      <td>418.00</td>\n",
       "      <td>[258  HISTORY OF EARLY IRAN  Tetep-mada, p.y 8...</td>\n",
       "    </tr>\n",
       "    <tr>\n",
       "      <th>276</th>\n",
       "      <td>277</td>\n",
       "      <td>INDEX  259  Umhuluma, p. y  199, 204  Umma, c....</td>\n",
       "      <td>1649</td>\n",
       "      <td>278</td>\n",
       "      <td>15</td>\n",
       "      <td>412.25</td>\n",
       "      <td>[INDEX  259  Umhuluma, p. y  199, 204  Umma, c...</td>\n",
       "    </tr>\n",
       "    <tr>\n",
       "      <th>277</th>\n",
       "      <td>278</td>\n",
       "      <td>26o  HISTORY OF EARLY IRAN  Varuna, d., 139  V...</td>\n",
       "      <td>1351</td>\n",
       "      <td>225</td>\n",
       "      <td>7</td>\n",
       "      <td>337.75</td>\n",
       "      <td>[26o  HISTORY OF EARLY IRAN  Varuna, d., 139  ...</td>\n",
       "    </tr>\n",
       "  </tbody>\n",
       "</table>\n",
       "<p>278 rows × 7 columns</p>\n",
       "</div>"
      ],
      "text/plain": [
       "     page_number                                               text  \\\n",
       "0              1  H I S T O R Y  O F  E A R L Y  I R A N   oi.uc...   \n",
       "1              2  T H E  U N I V E R S I T Y  O F  C H I C A G O...   \n",
       "2              3  HISTORY OF EARLY IRAN  BY GEORGE G. CAMERON  I...   \n",
       "3              4  C O P Y R I G H T  I 9 3 6  B Y  T H E  U N I ...   \n",
       "4              5                       TO MY WIFE  oi.uchicago.edu    \n",
       "..           ...                                                ...   \n",
       "273          274  256  HISTORY OF EARLY IRAN  Sikris, c., 151 f....   \n",
       "274          275  INDEX  Susa, c.—Continued  pottery of, 8-10  r...   \n",
       "275          276  258  HISTORY OF EARLY IRAN  Tetep-mada, p.y 80...   \n",
       "276          277  INDEX  259  Umhuluma, p. y  199, 204  Umma, c....   \n",
       "277          278  26o  HISTORY OF EARLY IRAN  Varuna, d., 139  V...   \n",
       "\n",
       "     char_count  word_count  sentence_count  token_count  \\\n",
       "0            57          19               1        14.25   \n",
       "1           282          60               1        70.50   \n",
       "2           250          37               2        62.50   \n",
       "3           262          86               3        65.50   \n",
       "4            28           4               1         7.00   \n",
       "..          ...         ...             ...          ...   \n",
       "273        1770         301              15       442.50   \n",
       "274        1657         263               3       414.25   \n",
       "275        1672         276               8       418.00   \n",
       "276        1649         278              15       412.25   \n",
       "277        1351         225               7       337.75   \n",
       "\n",
       "                                             sentences  \n",
       "0    [H I S T O R Y  O F  E A R L Y  I R A N   oi.u...  \n",
       "1    [T H E  U N I V E R S I T Y  O F  C H I C A G ...  \n",
       "2    [HISTORY OF EARLY IRAN  BY GEORGE G. CAMERON  ...  \n",
       "3    [C O P Y R I G H T  I 9 3 6  B Y  T H E  U N I...  \n",
       "4                        [TO MY WIFE  oi.uchicago.edu]  \n",
       "..                                                 ...  \n",
       "273  [256  HISTORY OF EARLY IRAN  Sikris, c., 151 f...  \n",
       "274  [INDEX  Susa, c.—Continued  pottery of, 8-10  ...  \n",
       "275  [258  HISTORY OF EARLY IRAN  Tetep-mada, p.y 8...  \n",
       "276  [INDEX  259  Umhuluma, p. y  199, 204  Umma, c...  \n",
       "277  [26o  HISTORY OF EARLY IRAN  Varuna, d., 139  ...  \n",
       "\n",
       "[278 rows x 7 columns]"
      ]
     },
     "execution_count": 18,
     "metadata": {},
     "output_type": "execute_result"
    }
   ],
   "source": [
    "data"
   ]
  },
  {
   "cell_type": "code",
   "execution_count": 19,
   "metadata": {},
   "outputs": [
    {
     "data": {
      "text/html": [
       "<div>\n",
       "<style scoped>\n",
       "    .dataframe tbody tr th:only-of-type {\n",
       "        vertical-align: middle;\n",
       "    }\n",
       "\n",
       "    .dataframe tbody tr th {\n",
       "        vertical-align: top;\n",
       "    }\n",
       "\n",
       "    .dataframe thead th {\n",
       "        text-align: right;\n",
       "    }\n",
       "</style>\n",
       "<table border=\"1\" class=\"dataframe\">\n",
       "  <thead>\n",
       "    <tr style=\"text-align: right;\">\n",
       "      <th></th>\n",
       "      <th>page_number</th>\n",
       "      <th>char_count</th>\n",
       "      <th>word_count</th>\n",
       "      <th>sentence_count</th>\n",
       "      <th>token_count</th>\n",
       "    </tr>\n",
       "  </thead>\n",
       "  <tbody>\n",
       "    <tr>\n",
       "      <th>count</th>\n",
       "      <td>278.000000</td>\n",
       "      <td>278.000000</td>\n",
       "      <td>278.000000</td>\n",
       "      <td>278.000000</td>\n",
       "      <td>278.000000</td>\n",
       "    </tr>\n",
       "    <tr>\n",
       "      <th>mean</th>\n",
       "      <td>139.500000</td>\n",
       "      <td>1552.615108</td>\n",
       "      <td>254.305755</td>\n",
       "      <td>17.050360</td>\n",
       "      <td>388.153777</td>\n",
       "    </tr>\n",
       "    <tr>\n",
       "      <th>std</th>\n",
       "      <td>80.395895</td>\n",
       "      <td>353.851760</td>\n",
       "      <td>61.606033</td>\n",
       "      <td>8.775848</td>\n",
       "      <td>88.462940</td>\n",
       "    </tr>\n",
       "    <tr>\n",
       "      <th>min</th>\n",
       "      <td>1.000000</td>\n",
       "      <td>16.000000</td>\n",
       "      <td>1.000000</td>\n",
       "      <td>1.000000</td>\n",
       "      <td>4.000000</td>\n",
       "    </tr>\n",
       "    <tr>\n",
       "      <th>25%</th>\n",
       "      <td>70.250000</td>\n",
       "      <td>1524.250000</td>\n",
       "      <td>249.000000</td>\n",
       "      <td>12.000000</td>\n",
       "      <td>381.062500</td>\n",
       "    </tr>\n",
       "    <tr>\n",
       "      <th>50%</th>\n",
       "      <td>139.500000</td>\n",
       "      <td>1615.500000</td>\n",
       "      <td>265.000000</td>\n",
       "      <td>16.000000</td>\n",
       "      <td>403.875000</td>\n",
       "    </tr>\n",
       "    <tr>\n",
       "      <th>75%</th>\n",
       "      <td>208.750000</td>\n",
       "      <td>1718.750000</td>\n",
       "      <td>284.000000</td>\n",
       "      <td>21.000000</td>\n",
       "      <td>429.687500</td>\n",
       "    </tr>\n",
       "    <tr>\n",
       "      <th>max</th>\n",
       "      <td>278.000000</td>\n",
       "      <td>2386.000000</td>\n",
       "      <td>396.000000</td>\n",
       "      <td>78.000000</td>\n",
       "      <td>596.500000</td>\n",
       "    </tr>\n",
       "  </tbody>\n",
       "</table>\n",
       "</div>"
      ],
      "text/plain": [
       "       page_number   char_count  word_count  sentence_count  token_count\n",
       "count   278.000000   278.000000  278.000000      278.000000   278.000000\n",
       "mean    139.500000  1552.615108  254.305755       17.050360   388.153777\n",
       "std      80.395895   353.851760   61.606033        8.775848    88.462940\n",
       "min       1.000000    16.000000    1.000000        1.000000     4.000000\n",
       "25%      70.250000  1524.250000  249.000000       12.000000   381.062500\n",
       "50%     139.500000  1615.500000  265.000000       16.000000   403.875000\n",
       "75%     208.750000  1718.750000  284.000000       21.000000   429.687500\n",
       "max     278.000000  2386.000000  396.000000       78.000000   596.500000"
      ]
     },
     "execution_count": 19,
     "metadata": {},
     "output_type": "execute_result"
    }
   ],
   "source": [
    "data.describe()"
   ]
  },
  {
   "cell_type": "code",
   "execution_count": 20,
   "metadata": {},
   "outputs": [
    {
     "data": {
      "text/plain": [
       "15.633093525179856"
      ]
     },
     "execution_count": 20,
     "metadata": {},
     "output_type": "execute_result"
    }
   ],
   "source": [
    "data['sentences'].apply(func=lambda s: len(s)).mean()"
   ]
  },
  {
   "cell_type": "code",
   "execution_count": 21,
   "metadata": {},
   "outputs": [
    {
     "data": {
      "text/plain": [
       "15.0"
      ]
     },
     "execution_count": 21,
     "metadata": {},
     "output_type": "execute_result"
    }
   ],
   "source": [
    "data['sentences'].apply(func=lambda s: len(s)).median()"
   ]
  },
  {
   "cell_type": "code",
   "execution_count": 22,
   "metadata": {},
   "outputs": [
    {
     "data": {
      "text/plain": [
       "<Axes: ylabel='Frequency'>"
      ]
     },
     "execution_count": 22,
     "metadata": {},
     "output_type": "execute_result"
    },
    {
     "data": {
      "image/png": "[encoded data removed]",
      "text/plain": [
       "<Figure size 640x480 with 1 Axes>"
      ]
     },
     "metadata": {},
     "output_type": "display_data"
    }
   ],
   "source": [
    "data['sentences'].apply(func=lambda s: len(s)).plot(kind='hist', bins=100)"
   ]
  },
  {
   "cell_type": "markdown",
   "metadata": {},
   "source": [
    "Let's put 10 sentences in each chunk, this can lower the input token size of the model, and also has other benefits"
   ]
  },
  {
   "cell_type": "markdown",
   "metadata": {},
   "source": [
    "#### Choosing the chunk_size"
   ]
  },
  {
   "cell_type": "code",
   "execution_count": 23,
   "metadata": {},
   "outputs": [
    {
     "data": {
      "text/html": [
       "<div>\n",
       "<style scoped>\n",
       "    .dataframe tbody tr th:only-of-type {\n",
       "        vertical-align: middle;\n",
       "    }\n",
       "\n",
       "    .dataframe tbody tr th {\n",
       "        vertical-align: top;\n",
       "    }\n",
       "\n",
       "    .dataframe thead th {\n",
       "        text-align: right;\n",
       "    }\n",
       "</style>\n",
       "<table border=\"1\" class=\"dataframe\">\n",
       "  <thead>\n",
       "    <tr style=\"text-align: right;\">\n",
       "      <th></th>\n",
       "      <th>page_number</th>\n",
       "      <th>char_count</th>\n",
       "      <th>word_count</th>\n",
       "      <th>sentence_count</th>\n",
       "      <th>token_count</th>\n",
       "    </tr>\n",
       "  </thead>\n",
       "  <tbody>\n",
       "    <tr>\n",
       "      <th>count</th>\n",
       "      <td>278.000000</td>\n",
       "      <td>278.000000</td>\n",
       "      <td>278.000000</td>\n",
       "      <td>278.000000</td>\n",
       "      <td>278.000000</td>\n",
       "    </tr>\n",
       "    <tr>\n",
       "      <th>mean</th>\n",
       "      <td>139.500000</td>\n",
       "      <td>1552.615108</td>\n",
       "      <td>254.305755</td>\n",
       "      <td>17.050360</td>\n",
       "      <td>388.153777</td>\n",
       "    </tr>\n",
       "    <tr>\n",
       "      <th>std</th>\n",
       "      <td>80.395895</td>\n",
       "      <td>353.851760</td>\n",
       "      <td>61.606033</td>\n",
       "      <td>8.775848</td>\n",
       "      <td>88.462940</td>\n",
       "    </tr>\n",
       "    <tr>\n",
       "      <th>min</th>\n",
       "      <td>1.000000</td>\n",
       "      <td>16.000000</td>\n",
       "      <td>1.000000</td>\n",
       "      <td>1.000000</td>\n",
       "      <td>4.000000</td>\n",
       "    </tr>\n",
       "    <tr>\n",
       "      <th>25%</th>\n",
       "      <td>70.250000</td>\n",
       "      <td>1524.250000</td>\n",
       "      <td>249.000000</td>\n",
       "      <td>12.000000</td>\n",
       "      <td>381.062500</td>\n",
       "    </tr>\n",
       "    <tr>\n",
       "      <th>50%</th>\n",
       "      <td>139.500000</td>\n",
       "      <td>1615.500000</td>\n",
       "      <td>265.000000</td>\n",
       "      <td>16.000000</td>\n",
       "      <td>403.875000</td>\n",
       "    </tr>\n",
       "    <tr>\n",
       "      <th>75%</th>\n",
       "      <td>208.750000</td>\n",
       "      <td>1718.750000</td>\n",
       "      <td>284.000000</td>\n",
       "      <td>21.000000</td>\n",
       "      <td>429.687500</td>\n",
       "    </tr>\n",
       "    <tr>\n",
       "      <th>max</th>\n",
       "      <td>278.000000</td>\n",
       "      <td>2386.000000</td>\n",
       "      <td>396.000000</td>\n",
       "      <td>78.000000</td>\n",
       "      <td>596.500000</td>\n",
       "    </tr>\n",
       "  </tbody>\n",
       "</table>\n",
       "</div>"
      ],
      "text/plain": [
       "       page_number   char_count  word_count  sentence_count  token_count\n",
       "count   278.000000   278.000000  278.000000      278.000000   278.000000\n",
       "mean    139.500000  1552.615108  254.305755       17.050360   388.153777\n",
       "std      80.395895   353.851760   61.606033        8.775848    88.462940\n",
       "min       1.000000    16.000000    1.000000        1.000000     4.000000\n",
       "25%      70.250000  1524.250000  249.000000       12.000000   381.062500\n",
       "50%     139.500000  1615.500000  265.000000       16.000000   403.875000\n",
       "75%     208.750000  1718.750000  284.000000       21.000000   429.687500\n",
       "max     278.000000  2386.000000  396.000000       78.000000   596.500000"
      ]
     },
     "execution_count": 23,
     "metadata": {},
     "output_type": "execute_result"
    }
   ],
   "source": [
    "data.describe()"
   ]
  },
  {
   "cell_type": "markdown",
   "metadata": {},
   "source": [
    "on average, each page has 17 sentences  \n",
    "on average, each page has 388 tokens  \n",
    "approximately, each sentence has `(388/17) = 23` tokens  "
   ]
  },
  {
   "cell_type": "markdown",
   "metadata": {},
   "source": [
    "colored markdown \n",
    "<span style=\"color:red\">**TODO:** </span>  \n",
    "**Find the appropriate chunk size for our model.**"
   ]
  },
  {
   "cell_type": "code",
   "execution_count": 24,
   "metadata": {},
   "outputs": [
    {
     "data": {
      "text/plain": [
       "16"
      ]
     },
     "execution_count": 24,
     "metadata": {},
     "output_type": "execute_result"
    }
   ],
   "source": [
    "# 384 is the token size of the embedeer model we are going to use\n",
    "384 // 23 "
   ]
  },
  {
   "cell_type": "markdown",
   "metadata": {},
   "source": [
    "### Chunk the data"
   ]
  },
  {
   "cell_type": "code",
   "execution_count": 25,
   "metadata": {},
   "outputs": [],
   "source": [
    "chunk_size = 13"
   ]
  },
  {
   "cell_type": "code",
   "execution_count": 26,
   "metadata": {},
   "outputs": [],
   "source": [
    "def get_chunk_points(chunk_size, array_length):\n",
    "    return list(\n",
    "        range(chunk_size, array_length + 1, chunk_size)\n",
    "    )"
   ]
  },
  {
   "cell_type": "code",
   "execution_count": 27,
   "metadata": {},
   "outputs": [],
   "source": [
    "data['chunked'] = data.apply(\n",
    "    func=lambda row: np.split(\n",
    "        row['sentences'],\n",
    "        get_chunk_points(chunk_size, len(row['sentences']))\n",
    "    ),\n",
    "    axis=1\n",
    ")"
   ]
  },
  {
   "cell_type": "markdown",
   "metadata": {},
   "source": [
    "___"
   ]
  },
  {
   "cell_type": "markdown",
   "metadata": {},
   "source": [
    "Analyze the pages after chunking it "
   ]
  },
  {
   "cell_type": "code",
   "execution_count": 28,
   "metadata": {},
   "outputs": [
    {
     "data": {
      "text/plain": [
       "1.7410071942446044"
      ]
     },
     "execution_count": 28,
     "metadata": {},
     "output_type": "execute_result"
    }
   ],
   "source": [
    "data['chunked'].apply(func=lambda chunks: len(chunks)).mean() # on average, each page has 1.7 chunks"
   ]
  },
  {
   "cell_type": "code",
   "execution_count": 29,
   "metadata": {},
   "outputs": [
    {
     "data": {
      "text/plain": [
       "<Axes: ylabel='Frequency'>"
      ]
     },
     "execution_count": 29,
     "metadata": {},
     "output_type": "execute_result"
    },
    {
     "data": {
      "image/png": "[encoded data removed]",
      "text/plain": [
       "<Figure size 640x480 with 1 Axes>"
      ]
     },
     "metadata": {},
     "output_type": "display_data"
    }
   ],
   "source": [
    "data['chunked'].apply(func=lambda chunks: len(chunks)).plot(kind='hist', bins=100) # distribution of chunks per page"
   ]
  },
  {
   "cell_type": "markdown",
   "metadata": {},
   "source": [
    "### Splitting each chunk into its own item"
   ]
  },
  {
   "cell_type": "code",
   "execution_count": 30,
   "metadata": {},
   "outputs": [],
   "source": [
    "chunked_data = data.explode('chunked').reset_index()"
   ]
  },
  {
   "cell_type": "code",
   "execution_count": 31,
   "metadata": {},
   "outputs": [
    {
     "data": {
      "text/html": [
       "<div>\n",
       "<style scoped>\n",
       "    .dataframe tbody tr th:only-of-type {\n",
       "        vertical-align: middle;\n",
       "    }\n",
       "\n",
       "    .dataframe tbody tr th {\n",
       "        vertical-align: top;\n",
       "    }\n",
       "\n",
       "    .dataframe thead th {\n",
       "        text-align: right;\n",
       "    }\n",
       "</style>\n",
       "<table border=\"1\" class=\"dataframe\">\n",
       "  <thead>\n",
       "    <tr style=\"text-align: right;\">\n",
       "      <th></th>\n",
       "      <th>index</th>\n",
       "      <th>page_number</th>\n",
       "      <th>text</th>\n",
       "      <th>char_count</th>\n",
       "      <th>word_count</th>\n",
       "      <th>sentence_count</th>\n",
       "      <th>token_count</th>\n",
       "      <th>sentences</th>\n",
       "      <th>chunked</th>\n",
       "    </tr>\n",
       "  </thead>\n",
       "  <tbody>\n",
       "    <tr>\n",
       "      <th>12</th>\n",
       "      <td>12.0</td>\n",
       "      <td>13.0</td>\n",
       "      <td>ABBREVIATIONS  AJSL  American Journal of Semit...</td>\n",
       "      <td>988.0</td>\n",
       "      <td>135.0</td>\n",
       "      <td>27.0</td>\n",
       "      <td>247.0</td>\n",
       "      <td>[ABBREVIATIONS  AJSL  American Journal of Semi...</td>\n",
       "      <td>[ABBREVIATIONS  AJSL  American Journal of Semi...</td>\n",
       "    </tr>\n",
       "    <tr>\n",
       "      <th>13</th>\n",
       "      <td>12.0</td>\n",
       "      <td>13.0</td>\n",
       "      <td>ABBREVIATIONS  AJSL  American Journal of Semit...</td>\n",
       "      <td>988.0</td>\n",
       "      <td>135.0</td>\n",
       "      <td>27.0</td>\n",
       "      <td>247.0</td>\n",
       "      <td>[ABBREVIATIONS  AJSL  American Journal of Semi...</td>\n",
       "      <td>[D: Researches and Treatises., Ed.,  by H. V. ...</td>\n",
       "    </tr>\n",
       "    <tr>\n",
       "      <th>14</th>\n",
       "      <td>12.0</td>\n",
       "      <td>13.0</td>\n",
       "      <td>ABBREVIATIONS  AJSL  American Journal of Semit...</td>\n",
       "      <td>988.0</td>\n",
       "      <td>135.0</td>\n",
       "      <td>27.0</td>\n",
       "      <td>247.0</td>\n",
       "      <td>[ABBREVIATIONS  AJSL  American Journal of Semi...</td>\n",
       "      <td>[]</td>\n",
       "    </tr>\n",
       "  </tbody>\n",
       "</table>\n",
       "</div>"
      ],
      "text/plain": [
       "    index  page_number                                               text  \\\n",
       "12   12.0         13.0  ABBREVIATIONS  AJSL  American Journal of Semit...   \n",
       "13   12.0         13.0  ABBREVIATIONS  AJSL  American Journal of Semit...   \n",
       "14   12.0         13.0  ABBREVIATIONS  AJSL  American Journal of Semit...   \n",
       "\n",
       "    char_count  word_count  sentence_count  token_count  \\\n",
       "12       988.0       135.0            27.0        247.0   \n",
       "13       988.0       135.0            27.0        247.0   \n",
       "14       988.0       135.0            27.0        247.0   \n",
       "\n",
       "                                            sentences  \\\n",
       "12  [ABBREVIATIONS  AJSL  American Journal of Semi...   \n",
       "13  [ABBREVIATIONS  AJSL  American Journal of Semi...   \n",
       "14  [ABBREVIATIONS  AJSL  American Journal of Semi...   \n",
       "\n",
       "                                              chunked  \n",
       "12  [ABBREVIATIONS  AJSL  American Journal of Semi...  \n",
       "13  [D: Researches and Treatises., Ed.,  by H. V. ...  \n",
       "14                                                 []  "
      ]
     },
     "execution_count": 31,
     "metadata": {},
     "output_type": "execute_result"
    }
   ],
   "source": [
    "chunked_data.where(\n",
    "    chunked_data['page_number'] == 13\n",
    ").dropna()"
   ]
  },
  {
   "cell_type": "markdown",
   "metadata": {},
   "source": [
    "This shows that the the page 13 has been split into 3 chunks, since it had 27 sentences, now it is chunked to 13, 13 , 1 sentences"
   ]
  },
  {
   "cell_type": "markdown",
   "metadata": {},
   "source": [
    "organize the `chunked_data`"
   ]
  },
  {
   "cell_type": "code",
   "execution_count": 32,
   "metadata": {},
   "outputs": [
    {
     "data": {
      "text/html": [
       "<div>\n",
       "<style scoped>\n",
       "    .dataframe tbody tr th:only-of-type {\n",
       "        vertical-align: middle;\n",
       "    }\n",
       "\n",
       "    .dataframe tbody tr th {\n",
       "        vertical-align: top;\n",
       "    }\n",
       "\n",
       "    .dataframe thead th {\n",
       "        text-align: right;\n",
       "    }\n",
       "</style>\n",
       "<table border=\"1\" class=\"dataframe\">\n",
       "  <thead>\n",
       "    <tr style=\"text-align: right;\">\n",
       "      <th></th>\n",
       "      <th>page_number</th>\n",
       "      <th>chunked</th>\n",
       "      <th>token_count</th>\n",
       "    </tr>\n",
       "  </thead>\n",
       "  <tbody>\n",
       "    <tr>\n",
       "      <th>0</th>\n",
       "      <td>1</td>\n",
       "      <td>H I S T O R Y  O F  E A R L Y  I R A N   oi.uc...</td>\n",
       "      <td>14.00</td>\n",
       "    </tr>\n",
       "    <tr>\n",
       "      <th>1</th>\n",
       "      <td>2</td>\n",
       "      <td>T H E  U N I V E R S I T Y  O F  C H I C A G O...</td>\n",
       "      <td>70.25</td>\n",
       "    </tr>\n",
       "    <tr>\n",
       "      <th>2</th>\n",
       "      <td>3</td>\n",
       "      <td>HISTORY OF EARLY IRAN  BY GEORGE G. CAMERON  I...</td>\n",
       "      <td>62.25</td>\n",
       "    </tr>\n",
       "    <tr>\n",
       "      <th>3</th>\n",
       "      <td>4</td>\n",
       "      <td>C O P Y R I G H T  I 9 3 6  B Y  T H E  U N I ...</td>\n",
       "      <td>65.25</td>\n",
       "    </tr>\n",
       "    <tr>\n",
       "      <th>4</th>\n",
       "      <td>5</td>\n",
       "      <td>TO MY WIFE  oi.uchicago.edu</td>\n",
       "      <td>6.75</td>\n",
       "    </tr>\n",
       "  </tbody>\n",
       "</table>\n",
       "</div>"
      ],
      "text/plain": [
       "   page_number                                            chunked  token_count\n",
       "0            1  H I S T O R Y  O F  E A R L Y  I R A N   oi.uc...        14.00\n",
       "1            2  T H E  U N I V E R S I T Y  O F  C H I C A G O...        70.25\n",
       "2            3  HISTORY OF EARLY IRAN  BY GEORGE G. CAMERON  I...        62.25\n",
       "3            4  C O P Y R I G H T  I 9 3 6  B Y  T H E  U N I ...        65.25\n",
       "4            5                        TO MY WIFE  oi.uchicago.edu         6.75"
      ]
     },
     "execution_count": 32,
     "metadata": {},
     "output_type": "execute_result"
    }
   ],
   "source": [
    "chunked_data = chunked_data[['page_number', 'chunked']]\n",
    "\n",
    "# converting the chunked list into one string\n",
    "chunked_data['chunked'] = chunked_data['chunked'].apply(\n",
    "    func=lambda chunk: ' '.join(chunk)\n",
    ")\n",
    "\n",
    "# let's also calculate the chunk toke_size for each chunk\n",
    "chunked_data['token_count'] = chunked_data.apply(\n",
    "    func=lambda chunk: len(chunk['chunked'])/4,\n",
    "    axis=1\n",
    ")\n",
    "chunked_data.head()"
   ]
  },
  {
   "cell_type": "code",
   "execution_count": 33,
   "metadata": {},
   "outputs": [
    {
     "data": {
      "text/html": [
       "<div>\n",
       "<style scoped>\n",
       "    .dataframe tbody tr th:only-of-type {\n",
       "        vertical-align: middle;\n",
       "    }\n",
       "\n",
       "    .dataframe tbody tr th {\n",
       "        vertical-align: top;\n",
       "    }\n",
       "\n",
       "    .dataframe thead th {\n",
       "        text-align: right;\n",
       "    }\n",
       "</style>\n",
       "<table border=\"1\" class=\"dataframe\">\n",
       "  <thead>\n",
       "    <tr style=\"text-align: right;\">\n",
       "      <th></th>\n",
       "      <th>page_number</th>\n",
       "      <th>token_count</th>\n",
       "    </tr>\n",
       "  </thead>\n",
       "  <tbody>\n",
       "    <tr>\n",
       "      <th>count</th>\n",
       "      <td>484.000000</td>\n",
       "      <td>484.000000</td>\n",
       "    </tr>\n",
       "    <tr>\n",
       "      <th>mean</th>\n",
       "      <td>133.971074</td>\n",
       "      <td>222.747934</td>\n",
       "    </tr>\n",
       "    <tr>\n",
       "      <th>std</th>\n",
       "      <td>74.221810</td>\n",
       "      <td>168.051920</td>\n",
       "    </tr>\n",
       "    <tr>\n",
       "      <th>min</th>\n",
       "      <td>1.000000</td>\n",
       "      <td>0.000000</td>\n",
       "    </tr>\n",
       "    <tr>\n",
       "      <th>25%</th>\n",
       "      <td>73.750000</td>\n",
       "      <td>44.000000</td>\n",
       "    </tr>\n",
       "    <tr>\n",
       "      <th>50%</th>\n",
       "      <td>129.500000</td>\n",
       "      <td>295.500000</td>\n",
       "    </tr>\n",
       "    <tr>\n",
       "      <th>75%</th>\n",
       "      <td>195.250000</td>\n",
       "      <td>381.062500</td>\n",
       "    </tr>\n",
       "    <tr>\n",
       "      <th>max</th>\n",
       "      <td>278.000000</td>\n",
       "      <td>470.000000</td>\n",
       "    </tr>\n",
       "  </tbody>\n",
       "</table>\n",
       "</div>"
      ],
      "text/plain": [
       "       page_number  token_count\n",
       "count   484.000000   484.000000\n",
       "mean    133.971074   222.747934\n",
       "std      74.221810   168.051920\n",
       "min       1.000000     0.000000\n",
       "25%      73.750000    44.000000\n",
       "50%     129.500000   295.500000\n",
       "75%     195.250000   381.062500\n",
       "max     278.000000   470.000000"
      ]
     },
     "execution_count": 33,
     "metadata": {},
     "output_type": "execute_result"
    }
   ],
   "source": [
    "chunked_data.describe()"
   ]
  },
  {
   "cell_type": "markdown",
   "metadata": {},
   "source": [
    "Some chunks have too little token_count, let's check it"
   ]
  },
  {
   "cell_type": "code",
   "execution_count": 34,
   "metadata": {},
   "outputs": [
    {
     "data": {
      "text/html": [
       "<div>\n",
       "<style scoped>\n",
       "    .dataframe tbody tr th:only-of-type {\n",
       "        vertical-align: middle;\n",
       "    }\n",
       "\n",
       "    .dataframe tbody tr th {\n",
       "        vertical-align: top;\n",
       "    }\n",
       "\n",
       "    .dataframe thead th {\n",
       "        text-align: right;\n",
       "    }\n",
       "</style>\n",
       "<table border=\"1\" class=\"dataframe\">\n",
       "  <thead>\n",
       "    <tr style=\"text-align: right;\">\n",
       "      <th></th>\n",
       "      <th>page_number</th>\n",
       "      <th>chunked</th>\n",
       "      <th>token_count</th>\n",
       "    </tr>\n",
       "  </thead>\n",
       "  <tbody>\n",
       "    <tr>\n",
       "      <th>0</th>\n",
       "      <td>1</td>\n",
       "      <td>H I S T O R Y  O F  E A R L Y  I R A N   oi.uc...</td>\n",
       "      <td>14.00</td>\n",
       "    </tr>\n",
       "    <tr>\n",
       "      <th>4</th>\n",
       "      <td>5</td>\n",
       "      <td>TO MY WIFE  oi.uchicago.edu</td>\n",
       "      <td>6.75</td>\n",
       "    </tr>\n",
       "    <tr>\n",
       "      <th>5</th>\n",
       "      <td>6</td>\n",
       "      <td>oi.uchicago.edu</td>\n",
       "      <td>3.75</td>\n",
       "    </tr>\n",
       "    <tr>\n",
       "      <th>11</th>\n",
       "      <td>12</td>\n",
       "      <td>oi.uchicago.edu</td>\n",
       "      <td>3.75</td>\n",
       "    </tr>\n",
       "    <tr>\n",
       "      <th>14</th>\n",
       "      <td>13</td>\n",
       "      <td></td>\n",
       "      <td>0.00</td>\n",
       "    </tr>\n",
       "    <tr>\n",
       "      <th>17</th>\n",
       "      <td>14</td>\n",
       "      <td></td>\n",
       "      <td>0.00</td>\n",
       "    </tr>\n",
       "    <tr>\n",
       "      <th>22</th>\n",
       "      <td>16</td>\n",
       "      <td></td>\n",
       "      <td>0.00</td>\n",
       "    </tr>\n",
       "    <tr>\n",
       "      <th>30</th>\n",
       "      <td>23</td>\n",
       "      <td>1-30.  oi.uchicago.edu</td>\n",
       "      <td>5.50</td>\n",
       "    </tr>\n",
       "    <tr>\n",
       "      <th>34</th>\n",
       "      <td>25</td>\n",
       "      <td>37 and 43.  oi.uchicago.edu</td>\n",
       "      <td>6.75</td>\n",
       "    </tr>\n",
       "    <tr>\n",
       "      <th>50</th>\n",
       "      <td>34</td>\n",
       "      <td>oi.uchicago.edu</td>\n",
       "      <td>4.00</td>\n",
       "    </tr>\n",
       "  </tbody>\n",
       "</table>\n",
       "</div>"
      ],
      "text/plain": [
       "    page_number                                            chunked  \\\n",
       "0             1  H I S T O R Y  O F  E A R L Y  I R A N   oi.uc...   \n",
       "4             5                        TO MY WIFE  oi.uchicago.edu   \n",
       "5             6                                    oi.uchicago.edu   \n",
       "11           12                                    oi.uchicago.edu   \n",
       "14           13                                                      \n",
       "17           14                                                      \n",
       "22           16                                                      \n",
       "30           23                             1-30.  oi.uchicago.edu   \n",
       "34           25                        37 and 43.  oi.uchicago.edu   \n",
       "50           34                                    oi.uchicago.edu   \n",
       "\n",
       "    token_count  \n",
       "0         14.00  \n",
       "4          6.75  \n",
       "5          3.75  \n",
       "11         3.75  \n",
       "14         0.00  \n",
       "17         0.00  \n",
       "22         0.00  \n",
       "30         5.50  \n",
       "34         6.75  \n",
       "50         4.00  "
      ]
     },
     "execution_count": 34,
     "metadata": {},
     "output_type": "execute_result"
    }
   ],
   "source": [
    "chunked_data[chunked_data['token_count'] < 44].dropna().head(10)"
   ]
  },
  {
   "cell_type": "markdown",
   "metadata": {},
   "source": [
    "Many of them are short and unimportant text, we can drop them."
   ]
  },
  {
   "cell_type": "code",
   "execution_count": 35,
   "metadata": {},
   "outputs": [],
   "source": [
    "chunked_data = chunked_data[chunked_data['token_count'] > 44]"
   ]
  },
  {
   "cell_type": "code",
   "execution_count": 36,
   "metadata": {},
   "outputs": [
    {
     "data": {
      "text/html": [
       "<div>\n",
       "<style scoped>\n",
       "    .dataframe tbody tr th:only-of-type {\n",
       "        vertical-align: middle;\n",
       "    }\n",
       "\n",
       "    .dataframe tbody tr th {\n",
       "        vertical-align: top;\n",
       "    }\n",
       "\n",
       "    .dataframe thead th {\n",
       "        text-align: right;\n",
       "    }\n",
       "</style>\n",
       "<table border=\"1\" class=\"dataframe\">\n",
       "  <thead>\n",
       "    <tr style=\"text-align: right;\">\n",
       "      <th></th>\n",
       "      <th>page_number</th>\n",
       "      <th>token_count</th>\n",
       "    </tr>\n",
       "  </thead>\n",
       "  <tbody>\n",
       "    <tr>\n",
       "      <th>count</th>\n",
       "      <td>361.000000</td>\n",
       "      <td>361.000000</td>\n",
       "    </tr>\n",
       "    <tr>\n",
       "      <th>mean</th>\n",
       "      <td>133.487535</td>\n",
       "      <td>293.342105</td>\n",
       "    </tr>\n",
       "    <tr>\n",
       "      <th>std</th>\n",
       "      <td>76.234656</td>\n",
       "      <td>134.769753</td>\n",
       "    </tr>\n",
       "    <tr>\n",
       "      <th>min</th>\n",
       "      <td>2.000000</td>\n",
       "      <td>44.250000</td>\n",
       "    </tr>\n",
       "    <tr>\n",
       "      <th>25%</th>\n",
       "      <td>69.000000</td>\n",
       "      <td>141.750000</td>\n",
       "    </tr>\n",
       "    <tr>\n",
       "      <th>50%</th>\n",
       "      <td>127.000000</td>\n",
       "      <td>360.500000</td>\n",
       "    </tr>\n",
       "    <tr>\n",
       "      <th>75%</th>\n",
       "      <td>196.000000</td>\n",
       "      <td>392.250000</td>\n",
       "    </tr>\n",
       "    <tr>\n",
       "      <th>max</th>\n",
       "      <td>278.000000</td>\n",
       "      <td>470.000000</td>\n",
       "    </tr>\n",
       "  </tbody>\n",
       "</table>\n",
       "</div>"
      ],
      "text/plain": [
       "       page_number  token_count\n",
       "count   361.000000   361.000000\n",
       "mean    133.487535   293.342105\n",
       "std      76.234656   134.769753\n",
       "min       2.000000    44.250000\n",
       "25%      69.000000   141.750000\n",
       "50%     127.000000   360.500000\n",
       "75%     196.000000   392.250000\n",
       "max     278.000000   470.000000"
      ]
     },
     "execution_count": 36,
     "metadata": {},
     "output_type": "execute_result"
    }
   ],
   "source": [
    "chunked_data.describe()"
   ]
  },
  {
   "cell_type": "markdown",
   "metadata": {},
   "source": [
    "Much Better :))"
   ]
  },
  {
   "cell_type": "markdown",
   "metadata": {},
   "source": [
    "___"
   ]
  },
  {
   "cell_type": "markdown",
   "metadata": {},
   "source": [
    "## Embedding text chunks"
   ]
  },
  {
   "cell_type": "markdown",
   "metadata": {},
   "source": [
    "To install the libraries on apple silicon systems, check out\n",
    "[this article](https://freedium.cfd/https://jamescalam.medium.com/hugging-face-and-sentence-transformers-on-m1-macs-4b12e40c21ce)"
   ]
  },
  {
   "cell_type": "markdown",
   "metadata": {},
   "source": [
    "___"
   ]
  },
  {
   "cell_type": "code",
   "execution_count": 38,
   "metadata": {},
   "outputs": [],
   "source": [
    "# import os\n",
    "# os.environ['HF_HOME'] = '~/.huggingface_cache'\n",
    "# os.environ['TRANSFORMERS_CACHE'] = '~/.huggingface_cache'\n",
    "\n",
    "# os.environ['HF_HOME'] = '~/.cache/huggingface' \n",
    "# os.environ['PYTORCH_ENABLE_MPS_FALLBACK'] = '1'"
   ]
  },
  {
   "cell_type": "code",
   "execution_count": 39,
   "metadata": {},
   "outputs": [],
   "source": [
    "from sentence_transformers import SentenceTransformer"
   ]
  },
  {
   "cell_type": "code",
   "execution_count": 44,
   "metadata": {},
   "outputs": [],
   "source": [
    "sentences = [\"This is an example sentence\", \"Each sentence is converted\"]\n",
    "model = SentenceTransformer('sentence-transformers/all-mpnet-base-v2')\n",
    "embeddings = model.encode(sentences)"
   ]
  },
  {
   "cell_type": "code",
   "execution_count": 52,
   "metadata": {},
   "outputs": [
    {
     "name": "stdout",
     "output_type": "stream",
     "text": [
      "[[ 0.02250262 -0.07829169 -0.02303071 ... -0.0082793   0.02652683\n",
      "  -0.00201895]\n",
      " [ 0.04170239  0.00109744 -0.01553417 ... -0.02181628 -0.06359358\n",
      "  -0.00875289]]\n"
     ]
    }
   ],
   "source": [
    "print(embeddings)"
   ]
  },
  {
   "cell_type": "code",
   "execution_count": 59,
   "metadata": {},
   "outputs": [
    {
     "data": {
      "text/plain": [
       "(768,)"
      ]
     },
     "execution_count": 59,
     "metadata": {},
     "output_type": "execute_result"
    }
   ],
   "source": [
    "embeddings[0].shape"
   ]
  },
  {
   "cell_type": "markdown",
   "metadata": {},
   "source": [
    "___"
   ]
  },
  {
   "cell_type": "code",
   "execution_count": 70,
   "metadata": {},
   "outputs": [
    {
     "name": "stderr",
     "output_type": "stream",
     "text": [
      "/opt/miniconda3/envs/nlp2/lib/python3.12/site-packages/huggingface_hub/file_download.py:1132: FutureWarning: `resume_download` is deprecated and will be removed in version 1.0.0. Downloads always resume when possible. If you want to force a new download, use `force_download=True`.\n",
      "  warnings.warn(\n"
     ]
    }
   ],
   "source": [
    "embedding_model = SentenceTransformer(\n",
    "    model_name_or_path=\"all-mpnet-base-v2\", \n",
    "    device=\"mps\"\n",
    ")"
   ]
  },
  {
   "cell_type": "code",
   "execution_count": 71,
   "metadata": {},
   "outputs": [
    {
     "data": {
      "text/plain": [
       "1      [0.048479, -0.049510524, -0.016655173, -0.0065...\n",
       "2      [0.020708164, 0.059427746, -0.019195348, -0.05...\n",
       "3      [-0.032235887, -0.040338583, -0.007694088, -0....\n",
       "6      [0.018578505, 0.004012034, -0.022310644, -0.03...\n",
       "7      [0.001946639, 0.014454619, -0.02796794, -0.006...\n",
       "                             ...                        \n",
       "479    [0.014161753, 0.02006322, -0.023084173, -0.048...\n",
       "480    [0.02499692, -0.03694443, -0.037972815, 0.0069...\n",
       "481    [-0.001074752, 0.0078089363, -0.021726973, -0....\n",
       "482    [0.034706492, -0.00032252813, -0.024292545, -0...\n",
       "483    [0.0065742927, 0.015423693, -0.012952124, -0.0...\n",
       "Length: 361, dtype: object"
      ]
     },
     "execution_count": 71,
     "metadata": {},
     "output_type": "execute_result"
    }
   ],
   "source": [
    "chunked_data.apply(\n",
    "    func=lambda row: embedding_model.encode(row['chunked']),\n",
    "    axis=1\n",
    ")"
   ]
  },
  {
   "cell_type": "markdown",
   "metadata": {},
   "source": [
    "we can make it even faster"
   ]
  },
  {
   "cell_type": "code",
   "execution_count": 78,
   "metadata": {},
   "outputs": [],
   "source": [
    "text_chunk_embeddings = chunked_data.apply(\n",
    "    func=lambda row: embedding_model.encode(\n",
    "        row['chunked'],\n",
    "        batch_size=64, \n",
    "        # convert_to_tensor=True,\n",
    "    ),\n",
    "    axis=1\n",
    ")"
   ]
  },
  {
   "cell_type": "markdown",
   "metadata": {},
   "source": [
    "Let's save the text embeddings so that we can access them later"
   ]
  },
  {
   "cell_type": "markdown",
   "metadata": {},
   "source": [
    "### save and load the model"
   ]
  },
  {
   "cell_type": "code",
   "execution_count": 79,
   "metadata": {},
   "outputs": [],
   "source": [
    "store_path = Path('./text_chunk_embeddings.pkl')\n",
    "text_chunk_embeddings.to_pickle(store_path)"
   ]
  },
  {
   "cell_type": "markdown",
   "metadata": {},
   "source": [
    "Let's check if wether we can re-read the data :"
   ]
  },
  {
   "cell_type": "code",
   "execution_count": 80,
   "metadata": {},
   "outputs": [],
   "source": [
    "loaded_embedded_chunks = pd.read_pickle(store_path)"
   ]
  },
  {
   "cell_type": "code",
   "execution_count": 81,
   "metadata": {},
   "outputs": [
    {
     "data": {
      "text/plain": [
       "1      [0.048479, -0.049510524, -0.016655173, -0.0065...\n",
       "2      [0.020708164, 0.059427746, -0.019195348, -0.05...\n",
       "3      [-0.032235887, -0.040338583, -0.007694088, -0....\n",
       "6      [0.018578505, 0.004012034, -0.022310644, -0.03...\n",
       "7      [0.001946639, 0.014454619, -0.02796794, -0.006...\n",
       "                             ...                        \n",
       "479    [0.014161753, 0.02006322, -0.023084173, -0.048...\n",
       "480    [0.02499692, -0.03694443, -0.037972815, 0.0069...\n",
       "481    [-0.001074752, 0.0078089363, -0.021726973, -0....\n",
       "482    [0.034706492, -0.00032252813, -0.024292545, -0...\n",
       "483    [0.0065742927, 0.015423693, -0.012952124, -0.0...\n",
       "Length: 361, dtype: object"
      ]
     },
     "execution_count": 81,
     "metadata": {},
     "output_type": "execute_result"
    }
   ],
   "source": [
    "loaded_embedded_chunks"
   ]
  },
  {
   "cell_type": "markdown",
   "metadata": {},
   "source": [
    "## RAG"
   ]
  },
  {
   "cell_type": "code",
   "execution_count": null,
   "metadata": {},
   "outputs": [],
   "source": []
  }
 ],
 "metadata": {
  "kernelspec": {
   "display_name": "dl2",
   "language": "python",
   "name": "python3"
  },
  "language_info": {
   "codemirror_mode": {
    "name": "ipython",
    "version": 3
   },
   "file_extension": ".py",
   "mimetype": "text/x-python",
   "name": "python",
   "nbconvert_exporter": "python",
   "pygments_lexer": "ipython3",
   "version": "3.12.4"
  }
 },
 "nbformat": 4,
 "nbformat_minor": 2
}
