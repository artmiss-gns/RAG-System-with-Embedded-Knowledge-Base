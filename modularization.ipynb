{
 "cells": [
  {
   "cell_type": "code",
   "execution_count": 1,
   "metadata": {},
   "outputs": [
    {
     "name": "stderr",
     "output_type": "stream",
     "text": [
      "/var/folders/ft/r3rwscxj6bxgq3r7vv3pf6340000gn/T/ipykernel_14605/2976821746.py:6: TqdmWarning: IProgress not found. Please update jupyter and ipywidgets. See https://ipywidgets.readthedocs.io/en/stable/user_install.html\n",
      "  from tqdm.autonotebook import tqdm, trange\n"
     ]
    }
   ],
   "source": [
    "import random\n",
    "from pathlib import Path\n",
    "from pprint import pprint\n",
    "\n",
    "import fitz  # pymupdf\n",
    "import matplotlib.pyplot as plt\n",
    "import numpy as np\n",
    "import pandas as pd\n",
    "import torch\n",
    "from sentence_transformers import SentenceTransformer, util\n",
    "from spacy.lang.en import English"
   ]
  },
  {
   "cell_type": "code",
   "execution_count": 2,
   "metadata": {},
   "outputs": [],
   "source": [
    "def preprocess(file_path: fitz.Document) -> pd.DataFrame:\n",
    "    with fitz.open(file_path) as doc:\n",
    "        page_content = {}\n",
    "        for page_number, page in enumerate(doc) :\n",
    "            text = page.get_text().replace('\\n', ' ')\n",
    "            page_content[page_number+1] = text\n",
    "\n",
    "        data = pd.DataFrame(columns=['page_number', 'text'])\n",
    "        data['page_number'] = list(page_content.keys())\n",
    "        data['text'] = list(page_content.values())\n",
    "\n",
    "        return data"
   ]
  },
  {
   "cell_type": "code",
   "execution_count": 3,
   "metadata": {},
   "outputs": [],
   "source": [
    "class Preprocessing:\n",
    "    def __init__(self, file_path: Path, chunk_size: int) -> None:\n",
    "        self.chunk_size = chunk_size\n",
    "        self.data = self.prepare_data(file_path)\n",
    "        self.split_to_pages()\n",
    "        self.chunk_data()\n",
    "        self.split_chunks()\n",
    "\n",
    "    def __call__(self):\n",
    "        return self.data\n",
    "    \n",
    "    def prepare_data(self, file_path): # TODO this procedure can be optimized later\n",
    "        with fitz.open(file_path) as doc:\n",
    "            page_content = {}\n",
    "            for page_number, page in enumerate(doc) :\n",
    "                text = page.get_text().replace('\\n', ' ')\n",
    "                page_content[page_number+1] = text\n",
    "\n",
    "            data = pd.DataFrame(columns=['page_number', 'text'])\n",
    "            data['page_number'] = list(page_content.keys())\n",
    "            data['text'] = list(page_content.values())\n",
    "            del page_content\n",
    "\n",
    "            return data\n",
    "\n",
    "    def split_to_pages(self):\n",
    "        nlp = English()\n",
    "        nlp.add_pipe(\"sentencizer\")\n",
    "\n",
    "        self.data['sentences'] = self.data.apply(\n",
    "            func=lambda row: list(nlp(row['text']).sents),\n",
    "            axis=1,\n",
    "            # result_type='expand'\n",
    "        )\n",
    "        # make sure all the sentences are str() (if you don't do this , the type will be )\n",
    "        self.data['sentences'] = self.data['sentences'].map(\n",
    "            lambda sentences: list(map(lambda s: s.text, sentences))\n",
    "        )\n",
    "\n",
    "    def chunk_data(self):\n",
    "        def get_chunk_points(chunk_size, array_length):\n",
    "            return list(\n",
    "                range(chunk_size, array_length + 1, chunk_size)\n",
    "            )\n",
    "        \n",
    "        self.data['chunked'] = self.data.apply(\n",
    "            func=lambda row: np.split(\n",
    "                row['sentences'],\n",
    "                get_chunk_points(self.chunk_size, len(row['sentences']))\n",
    "            ),\n",
    "            axis=1\n",
    "        )\n",
    "\n",
    "    def split_chunks(self):\n",
    "        chunked_data = self.data.explode('chunked').reset_index()\n",
    "        chunked_data = chunked_data[['page_number', 'chunked']]\n",
    "\n",
    "        # converting the chunked list into one string\n",
    "        chunked_data['chunked'] = chunked_data['chunked'].apply(\n",
    "            func=lambda chunk: ' '.join(chunk)\n",
    "        )\n",
    "\n",
    "        self.data = chunked_data\n"
   ]
  },
  {
   "cell_type": "code",
   "execution_count": 4,
   "metadata": {},
   "outputs": [],
   "source": [
    "pdf_path = Path('./Early Iran History.pdf')\n",
    "preprocessor = Preprocessing(pdf_path, chunk_size=13)"
   ]
  },
  {
   "cell_type": "code",
   "execution_count": 5,
   "metadata": {},
   "outputs": [],
   "source": [
    "data = preprocessor()"
   ]
  },
  {
   "cell_type": "code",
   "execution_count": 6,
   "metadata": {},
   "outputs": [
    {
     "data": {
      "text/html": [
       "<div>\n",
       "<style scoped>\n",
       "    .dataframe tbody tr th:only-of-type {\n",
       "        vertical-align: middle;\n",
       "    }\n",
       "\n",
       "    .dataframe tbody tr th {\n",
       "        vertical-align: top;\n",
       "    }\n",
       "\n",
       "    .dataframe thead th {\n",
       "        text-align: right;\n",
       "    }\n",
       "</style>\n",
       "<table border=\"1\" class=\"dataframe\">\n",
       "  <thead>\n",
       "    <tr style=\"text-align: right;\">\n",
       "      <th></th>\n",
       "      <th>page_number</th>\n",
       "      <th>chunked</th>\n",
       "    </tr>\n",
       "  </thead>\n",
       "  <tbody>\n",
       "    <tr>\n",
       "      <th>0</th>\n",
       "      <td>1</td>\n",
       "      <td>H I S T O R Y  O F  E A R L Y  I R A N   oi.uc...</td>\n",
       "    </tr>\n",
       "    <tr>\n",
       "      <th>1</th>\n",
       "      <td>2</td>\n",
       "      <td>T H E  U N I V E R S I T Y  O F  C H I C A G O...</td>\n",
       "    </tr>\n",
       "    <tr>\n",
       "      <th>2</th>\n",
       "      <td>3</td>\n",
       "      <td>HISTORY OF EARLY IRAN  BY GEORGE G. CAMERON  I...</td>\n",
       "    </tr>\n",
       "    <tr>\n",
       "      <th>3</th>\n",
       "      <td>4</td>\n",
       "      <td>C O P Y R I G H T  I 9 3 6  B Y  T H E  U N I ...</td>\n",
       "    </tr>\n",
       "    <tr>\n",
       "      <th>4</th>\n",
       "      <td>5</td>\n",
       "      <td>TO MY WIFE  oi.uchicago.edu</td>\n",
       "    </tr>\n",
       "  </tbody>\n",
       "</table>\n",
       "</div>"
      ],
      "text/plain": [
       "   page_number                                            chunked\n",
       "0            1  H I S T O R Y  O F  E A R L Y  I R A N   oi.uc...\n",
       "1            2  T H E  U N I V E R S I T Y  O F  C H I C A G O...\n",
       "2            3  HISTORY OF EARLY IRAN  BY GEORGE G. CAMERON  I...\n",
       "3            4  C O P Y R I G H T  I 9 3 6  B Y  T H E  U N I ...\n",
       "4            5                        TO MY WIFE  oi.uchicago.edu"
      ]
     },
     "execution_count": 6,
     "metadata": {},
     "output_type": "execute_result"
    }
   ],
   "source": [
    "data.head()"
   ]
  },
  {
   "cell_type": "markdown",
   "metadata": {},
   "source": [
    "### Embedding"
   ]
  },
  {
   "cell_type": "code",
   "execution_count": 7,
   "metadata": {},
   "outputs": [
    {
     "data": {
      "text/plain": [
       "'mps'"
      ]
     },
     "execution_count": 7,
     "metadata": {},
     "output_type": "execute_result"
    }
   ],
   "source": [
    "device = 'mps' if torch.backends.mps.is_available() else 'cpu'\n",
    "device"
   ]
  },
  {
   "cell_type": "code",
   "execution_count": 8,
   "metadata": {},
   "outputs": [
    {
     "name": "stderr",
     "output_type": "stream",
     "text": [
      "/opt/miniconda3/envs/nlp2/lib/python3.12/site-packages/huggingface_hub/file_download.py:1132: FutureWarning: `resume_download` is deprecated and will be removed in version 1.0.0. Downloads always resume when possible. If you want to force a new download, use `force_download=True`.\n",
      "  warnings.warn(\n"
     ]
    }
   ],
   "source": [
    "embedding_model = SentenceTransformer(\n",
    "    model_name_or_path=\"all-mpnet-base-v2\", \n",
    "    device=device\n",
    ")"
   ]
  },
  {
   "cell_type": "code",
   "execution_count": 9,
   "metadata": {},
   "outputs": [],
   "source": [
    "class Embedder:\n",
    "    def __init__(self, data: pd.DataFrame, embedding_model: SentenceTransformer) -> None:\n",
    "        self.data = data\n",
    "        self.embedding_model = embedding_model\n",
    "        self.embeddings = self.embed()\n",
    "    \n",
    "    def embed(self) :\n",
    "        text_chunk_embeddings = self.data.apply(\n",
    "            func=lambda row: self.embedding_model.encode(\n",
    "                row['chunked'],\n",
    "                batch_size=64, \n",
    "            ),\n",
    "        axis=1\n",
    "        )\n",
    "        # convert to tensor\n",
    "        text_chunk_embeddings = text_chunk_embeddings.apply(\n",
    "            func=lambda embedding: torch.tensor(embedding)\n",
    "        )\n",
    "        # convert the embeddings into a matrix\n",
    "        embeddings = torch.stack(text_chunk_embeddings.tolist()).to(device)\n",
    "        return embeddings\n",
    "    \n",
    "    def get_score(self, query, k):\n",
    "        query_embedding = self.embedding_model.encode(query, convert_to_tensor=True)\n",
    "        dot_score = util.dot_score(a=query_embedding, b=self.embeddings)\n",
    "        score_result = torch.topk(\n",
    "            input=dot_score,\n",
    "            k=k,\n",
    "            dim=1\n",
    "        )\n",
    "        return score_result\n",
    "    \n",
    "    def get_related_content(self, query, k=5):\n",
    "        score_result = self.get_score(query, k)\n",
    "        for value, index in list(zip(score_result[0].ravel(), score_result[1].ravel())) :\n",
    "            index = int(index)\n",
    "            page_number = self.data.iloc[index]['page_number']\n",
    "            print(f\"Score: {value}\")\n",
    "            print(f\"Index: {index}\")\n",
    "            print(f\"Page: {page_number}\")\n",
    "            pprint(self.data.iloc[index]['chunked'])\n",
    "            print()"
   ]
  },
  {
   "cell_type": "code",
   "execution_count": 10,
   "metadata": {},
   "outputs": [
    {
     "data": {
      "text/plain": [
       "tensor([[-0.0319,  0.0426,  0.0149,  ..., -0.0099,  0.0187, -0.0342],\n",
       "        [ 0.0485, -0.0495, -0.0167,  ..., -0.0002, -0.0482, -0.0372],\n",
       "        [ 0.0207,  0.0594, -0.0192,  ...,  0.0692, -0.0103, -0.0485],\n",
       "        ...,\n",
       "        [-0.0011,  0.0078, -0.0217,  ...,  0.0783,  0.0023, -0.0388],\n",
       "        [ 0.0347, -0.0003, -0.0243,  ...,  0.0615,  0.0028, -0.0384],\n",
       "        [ 0.0066,  0.0154, -0.0130,  ...,  0.0797, -0.0005, -0.0443]],\n",
       "       device='mps:0')"
      ]
     },
     "execution_count": 10,
     "metadata": {},
     "output_type": "execute_result"
    }
   ],
   "source": [
    "emb = Embedder(data, embedding_model)\n",
    "emb.embed()"
   ]
  },
  {
   "cell_type": "code",
   "execution_count": 11,
   "metadata": {},
   "outputs": [
    {
     "name": "stdout",
     "output_type": "stream",
     "text": [
      "Score: 0.6583991050720215\n",
      "Index: 64\n",
      "Page: 42\n",
      "('26  HISTORY OF EARLY IRAN  ready had a local history;12 but its political '\n",
      " 'fate was  inextricably bound up with the city Awan, where  there now (ca. '\n",
      " '2670 B.C.) began to rule a dynasty of  kings, twelve in number.13  Peli '\n",
      " 'founded the dynasty; and, if names are to be  trusted, his immediate '\n",
      " 'successors were all pure Elam- ites. To us these rulers—Tata,14 Ukku-tahesh, '\n",
      " 'Hi- shur, Shushun-tarana, Napi-ilhush, and Kikku-sime- temti—are no more '\n",
      " 'than names, though we might,  with some degree of probability, ascribe to '\n",
      " 'one of  them an inscription since found on Liyan, modern  Bushire, an island '\n",
      " 'in the Persian Gulf. Fragmentary  though it is, this text with its archaic '\n",
      " 'signs is yet  proof that by the time of Sargon of Agade the Elam- ites had '\n",
      " 'adopted the Sumerian script to write their  own language.15 With the eighth '\n",
      " 'member of the  dynasty, Luhhi-ishshan, and his successor, Hishep- 13 Scheil, '\n",
      " 'Mim.y VI, 59 fF., and Vol. XVII. For the seal imprints cf.  L. Legrain, '\n",
      " 'Mim., Vol. XVI.  Scheil, \"Dynasties 6lamites d\\'Awan et de Simas,\" RA, '\n",
      " 'XXVIII  (1931), 1-8, now definitive in MSm.y XXIII, iv. In an old Hurrian '\n",
      " 'text  discovered at Boghazkoy a certain Autalummash is named as a king of  '\n",
      " 'kings of Elam preceding Manishtusu; cf. E. Forrer, Die Boghazkoi-Texte  in '\n",
      " 'Umschrifty Band II, Heft 2 (\"Wissenschaftliche VerofFentlichungen der  '\n",
      " 'Deutschen Orient-Gesellschaft,\" Band XLII, Heft 2  [Leipzig, 1926]), 25*,  '\n",
      " 'now in Brandenstein, Keilschrifturkunden aus Boghazkoiy Vol. XXVIII  '\n",
      " '(Berlin, 1934), No.')\n",
      "\n",
      "Score: 0.6390116810798645\n",
      "Index: 138\n",
      "Page: 82\n",
      "('66  HISTORY OF EARLY IRAN  All this happened so rapidly that in later times '\n",
      " 'the  very scribes of Elam were at a loss. Glibly they gave  the names of two '\n",
      " 'kings presumed to follow Idaddu II  on the throne, namely, Idaddu-napir '\n",
      " '(\"Idaddu is  god\") and Idaddu-temti (\"Idaddu is lord\"). On this  point, '\n",
      " 'however, historical method demands a more  critical attitude. On their very '\n",
      " 'face these names are  spurious, coined according to the widespread theory,  '\n",
      " 'prevalent even in Elam, that the ruler himself was a  deity.65 Further, as '\n",
      " 'though to disprove the same Ela- mite scribes in their patriotic but '\n",
      " 'distorted attempt  to continue the dynasty, a tablet found at Susa bears  '\n",
      " \"the year formula of Gungunum's sixteenth year.66  Obviously, no other \"\n",
      " 'explanation is possible than that  Gungunum of Larsa defeated and killed '\n",
      " 'Idaddu in  battle and incorporated within his own growing em\\xad pire the '\n",
      " 'plain in which lay the city Susa. Thus quick\\xad ly the Elamite kingdom '\n",
      " 'collapsed, the Simash dy\\xad nasty ceased, and foreign control over a part '\n",
      " 'of Elam  resulted.  (1927/28), 261-63; note also the cylinder seal dedicated '\n",
      " 'to Anumutabil,  shakkanakku of Der, by Bazizzu, his chief priest of Anu, in '\n",
      " 'W. H. Ward,  Cylinders . ...  in the Library of J. Pierpont Morgan (New '\n",
      " 'York, 1909),  No. 68; cf. Scheil in RAf XIII (1916), 134 f.  6s Cf. C. W. '\n",
      " 'McEwan, The Oriental Origin of Hellenistic Kingship  (.SAOC, No. 13).  66 '\n",
      " 'Scheil, Mim.y Vol. X, No.')\n",
      "\n",
      "Score: 0.6335831880569458\n",
      "Index: 460\n",
      "Page: 258\n",
      "('24O  HISTORY OF EARLY IRAN  Dur Untash (Dur Undasi), c.y 107,  200, 203  '\n",
      " 'Durisi, p., 153  Durun River, see Diyala River  Dusanni,p., 178  Dussaud, '\n",
      " 'R., 184  Dutai tribe, 187  Ea (Enki), d., 39, 73, 90  Ea-gamil, p., 95  '\n",
      " 'Eannatum, p.,  24 f.  Ea-Sunkik (NUN.SUNKIK; \"Ea is  king\"), d.y 100, 102  '\n",
      " 'Ea-§arru,^.,  100  Ebarti I (of Simash),p., 56, 228  Ebarti II (of Simash), '\n",
      " 'p., 63, 228  Ebarti III,  p., 69 f., 72,  81, 95, 229  Ebeh Mountain, see '\n",
      " 'Ebih Moun\\xad tain  Ebeling, E.,  69,98  Ebih (Ebeh) Mountain,  115 f., '\n",
      " '118,  145; see also Jebel Hamrin  Ecbatana (Hangmatana), c., 175,  178, '\n",
      " '214,218; see also Hamadan  Edmonds, C. J., 36, 182  Ekallat, c.y 120  '\n",
      " 'Ekallate, c., 136  Elam, origin of name, 52  Elam, son of Shem, 16  Elamite '\n",
      " 'language, viii, 11 ff.  Elburz Mountains, 1, 218  Eli, c.s 109, 120  '\n",
      " 'Ellipi,  141 f., 146, 149 f., 153,  155, 161-63, l66, l8o, 211  E-..-luhhan, '\n",
      " 'p., see Enbiluhhan  Elulumesh, p., 44  Emutbal, /., 75 f., 78 f.  '\n",
      " 'Enammune,/>., 34,  36 f.  Enbiluhhan  (E-..-luhhan,  En- bilua),/>., 56 f.,  '\n",
      " '228  Enetarzi,p., 25  .  .  .  .en-ili, r., 121  Enki, d., w Ea  Enlil, </., '\n",
      " '30,39,4i,  45, 90, 97, n5  Enlil-nadin-ahhe, p.9 no, 230  Enlil-nadin-apli, '\n",
      " '/>., 94, 230  Enlil-nadin-shumi, p., 105, 230  Enmenbaragesi, />., 22  '\n",
      " 'Eparna, p.9 173  Erbil,  ^  Arbela  Erridupizir, p.,  45  Esarhaddon, p., '\n",
      " '167-70, 172, 174,  l77> I79f-» l86> 23i  Esarhaddon Chronicle,  168 f., 185  '\n",
      " 'Eshnunna (Tell Asmar), c.y 58, 62,  65, 79,109  Etruscans, 15  Ethiopians in '\n",
      " 'Asia, 17  Euphrates River, 14, 119, 139 f.  Eurafrican man, 17, 19  Europe, '\n",
      " '6 f.  European Alpines, 18  Eusebius, 216, 219 f.  Field, Henry, 6, 8 f.  '\n",
      " 'Flandin, E. N., 152  Forrer, E., 14, 26 f., 211  Frank, C., 206  Frankfort, '\n",
      " 'H., 10, 18, 63, 65  Friedrich, J.,  14  oi.uchicago.edu')\n",
      "\n",
      "Score: 0.6326084733009338\n",
      "Index: 180\n",
      "Page: 102\n",
      "('86  HISTORY OF EARLY IRAN  an Akkadian inscription in which he employs '\n",
      " 'merely  the title \"king,\" dedicated a temple to \"Inshushinak,  the king of '\n",
      " 'the gods,\" an epithet wrongly interpreted  in our own day to obtain the name '\n",
      " 'of a sovereign,  \"Inshushinak-shar-ilani. \"51 When Tan-Uli became  sukkalmah '\n",
      " '(ca. 1780-1771), Temti-halki was elevated  to the office of sukkal of Elam '\n",
      " 'and Simash according  to the usual scheme, and Kuk-Nashur II became the  new '\n",
      " 'ruler in Susa.52 Owing to an error of the Elamite  antiquarians, this '\n",
      " 'Kuk-Nashur was confused with the  first of the name, and in memory of his '\n",
      " 'supposed  deeds several bricks were inscribed in the twelfth  century B.C. '\n",
      " 'Today we may correct the mistake and  distinguish the individuals without '\n",
      " 'too great condem\\xad nation of the later scribes.  Unfortunately, we have no '\n",
      " 'data on Tan-Uli; but  when Temti-halki in turn became sukkalmah, he, like  '\n",
      " 'others before him, rejoiced in the full titulary when  he dedicated a temple '\n",
      " 'to the chief deity of Susa.  Again writing in Akkadian, he tells us that, '\n",
      " 'like Kuk- Nashur I, he was a \"son of a sister of Shilhaha. \"53  Though '\n",
      " 'eventually his titulary was forgotten, his  51 Scheil, Mtm.y II, 120.  52 '\n",
      " 'Tan-Uli, sukkalmah over Temti-halki: Mint., Vol. XXII, Nos. 7  and 9; Vol. '\n",
      " 'XXIII, No. 173; Vol. XXIV, Nos.')\n",
      "\n",
      "Score: 0.6250008940696716\n",
      "Index: 192\n",
      "Page: 108\n",
      "('HISTORY OF EARLY IRAN  third king9 claimed suzerainty over the Guti and  '\n",
      " 'over Padan and Alman, which should be the Holwan  region. Shalmaneser III of '\n",
      " 'Assyria, almost a thou\\xad sand years after their entry, found in Namri, a '\n",
      " 'terri\\xad tory of the Lullubi, a ruler Ianzu, whose name is  merely the '\n",
      " 'Kassite word for \"king. \"10 In the hill  country to the east and northeast '\n",
      " 'of Babylonia the  name of the Kassites lingered on into classical times  '\n",
      " 'among the Kissean and Kossean tribes.11 However,  it is necessary to point '\n",
      " 'out that this evidence is large\\xad ly negative, for there was a land '\n",
      " 'Kashshen to the  north of Elam already in the twenty-fourth century  B.C., '\n",
      " 'at a time when it is highly improbable that the  true Kassites had yet '\n",
      " 'arrived.12 This implies that they  took their name from a country long '\n",
      " 'before occupied,  and one which may have retained its original desig\\xad '\n",
      " 'nation long after new and newer peoples became as\\xad similated. Perhaps it '\n",
      " 'witnessed the amalgamation of  the various elements—Indo-European, '\n",
      " 'Caucasian,  and other—which composed the historical Kassites;  perhaps that '\n",
      " 'syncretism had already taken place in  another and more distant land.  Too '\n",
      " 'often we speak of invasion and attack, or the  rapid entrance or intrusion '\n",
      " 'of newcomers into a land  already populated. This seldom happens. New peo- • '\n",
      " 'Agum-kakrime; see reference to his inscription below, p. 94.  10 Cf. '\n",
      " 'Delitzsch, op. cit.y pp. 29-38, and see below, p. 143.  11 See the excellent '\n",
      " 'article by Weissbach on the \"Kossaioi\" in Pauly- Wissowa, '\n",
      " 'Real-Encyclopadie.  12 See the Puzur-Inshushinak inscription above, p. 37.')\n",
      "\n"
     ]
    }
   ],
   "source": [
    "emb.get_related_content(\n",
    "    'What is the name of the first Iranian king?'\n",
    ")"
   ]
  },
  {
   "cell_type": "code",
   "execution_count": null,
   "metadata": {},
   "outputs": [],
   "source": []
  }
 ],
 "metadata": {
  "kernelspec": {
   "display_name": "nlp2",
   "language": "python",
   "name": "python3"
  },
  "language_info": {
   "codemirror_mode": {
    "name": "ipython",
    "version": 3
   },
   "file_extension": ".py",
   "mimetype": "text/x-python",
   "name": "python",
   "nbconvert_exporter": "python",
   "pygments_lexer": "ipython3",
   "version": "3.12.4"
  }
 },
 "nbformat": 4,
 "nbformat_minor": 2
}
